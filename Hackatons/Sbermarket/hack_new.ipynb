{
 "cells": [
  {
   "cell_type": "code",
   "execution_count": 9,
   "metadata": {},
   "outputs": [],
   "source": [
    "from sklearn.preprocessing import LabelEncoder, OneHotEncoder\n",
    "import pandas as pd\n",
    "import numpy as np"
   ]
  },
  {
   "cell_type": "code",
   "execution_count": 7,
   "metadata": {},
   "outputs": [
    {
     "name": "stdout",
     "output_type": "stream",
     "text": [
      "Collecting pd\n",
      "  Downloading pd-0.0.1.tar.gz (5.3 kB)\n",
      "Building wheels for collected packages: pd\n",
      "  Building wheel for pd (setup.py) ... \u001b[?25ldone\n",
      "\u001b[?25h  Created wheel for pd: filename=pd-0.0.1-py3-none-any.whl size=6506 sha256=21303d284c9870ad47017988fc8e6d5c257ad7bd533c83c199319c42f3304574\n",
      "  Stored in directory: /Users/debunt/Library/Caches/pip/wheels/c0/45/39/f9063988f991ef39fdbe4e5f2c0e9085e3e0ab0465602e33da\n",
      "Successfully built pd\n",
      "Installing collected packages: pd\n",
      "Successfully installed pd-0.0.1\n"
     ]
    }
   ],
   "source": [
    "!pip install pd"
   ]
  },
  {
   "cell_type": "code",
   "execution_count": 4,
   "metadata": {},
   "outputs": [],
   "source": [
    "def create_time_features(df,time_column='date', label=None):\n",
    "    \"\"\"\n",
    "    Creates time series features from datetime index\n",
    "    \"\"\"\n",
    "    if time_column == 'starts_at':\n",
    "        df[time_column]=df[time_column]-pd.Timedelta(hours=3)\n",
    "    df[time_column+'_hour'] = df[time_column].dt.hour\n",
    "    df[time_column+'_dayofweek'] = df[time_column].dt.dayofweek\n",
    "    df[time_column+'_quarter'] = df[time_column].dt.quarter\n",
    "    df[time_column+'_month'] = df[time_column].dt.month\n",
    "    df[time_column+'_year'] = df[time_column].dt.year\n",
    "    df[time_column+'_dayofyear'] = df[time_column].dt.dayofyear\n",
    "    df[time_column+'_dayofmonth'] = df[time_column].dt.day\n",
    "    df[time_column+'_weekofyear'] = df[time_column].dt.weekofyear\n",
    "    \n",
    "    df=df.drop(columns=[time_column])\n",
    "    X = df\n",
    "    if label:\n",
    "        y = df[label]\n",
    "        return X, y\n",
    "    return X"
   ]
  },
  {
   "cell_type": "code",
   "execution_count": 10,
   "metadata": {},
   "outputs": [],
   "source": [
    "df = pd.read_csv(r'/Volumes/Seagate Expansion Drive/Hackatons_data/part1.csv')\n",
    "\n",
    "# df['brand'].fillna('nan', inplace=True)\n",
    "df['regular_price'].fillna(0, inplace=True)\n",
    "df['product_id'].fillna(-1, inplace=True)\n",
    "\n",
    "# df= df.dropna(subset=['product_id','regular_price','brand'])\n",
    "\n",
    "df.promotion_price.fillna(0, inplace=True)\n",
    "\n",
    "df['promotion_price']=(df['promotion_price'] > 0).astype(int)\n",
    "\n",
    "df = df.drop(columns=['Unnamed: 0','product_name','shopper_login'])#,'collection_day'])\n",
    "df['collection_day'] = pd.to_datetime(df['collection_day'])\n",
    "df['starts_at'] = pd.to_datetime(df['starts_at'])\n",
    "df['completed_at'] = pd.to_datetime(df['completed_at'])\n",
    "\n",
    "# df = create_time_features(df, time_column='collection_day')\n",
    "# df = create_time_features(df, time_column='starts_at')\n",
    "# df = create_time_features(df, time_column='completed_at')\n",
    "\n",
    "df[\"category\"] = df[\"category\"].apply(lambda x: x.lower())"
   ]
  },
  {
   "cell_type": "code",
   "execution_count": null,
   "metadata": {},
   "outputs": [],
   "source": []
  },
  {
   "cell_type": "code",
   "execution_count": 150,
   "metadata": {},
   "outputs": [
    {
     "data": {
      "text/plain": [
       "Index(['department', 'quantity', 'category', 'package_type', 'not_found',\n",
       "       'store_id', 'stock', 'brand', 'collection_day', 'product_id', 'city',\n",
       "       'promotion_price', 'regular_price', 'completed_at', 'starts_at',\n",
       "       'order_identifier'],\n",
       "      dtype='object')"
      ]
     },
     "execution_count": 150,
     "metadata": {},
     "output_type": "execute_result"
    }
   ],
   "source": [
    "df = df.sort_values(\"starts_at\")\n",
    "df.columns"
   ]
  },
  {
   "cell_type": "code",
   "execution_count": 161,
   "metadata": {},
   "outputs": [],
   "source": []
  },
  {
   "cell_type": "code",
   "execution_count": null,
   "metadata": {},
   "outputs": [
    {
     "name": "stderr",
     "output_type": "stream",
     "text": [
      "/Users/debunt/Work_Learning/programming/Jupyter/venv/lib/python3.7/site-packages/ipykernel_launcher.py:9: TqdmDeprecationWarning: This function will be removed in tqdm==5.0.0\n",
      "Please use `tqdm.notebook.tqdm` instead of `tqdm.tqdm_notebook`\n",
      "  if __name__ == '__main__':\n"
     ]
    },
    {
     "data": {
      "application/vnd.jupyter.widget-view+json": {
       "model_id": "0cccb718250145c59227fc8d96cb4671",
       "version_major": 2,
       "version_minor": 0
      },
      "text/plain": [
       "HBox(children=(FloatProgress(value=0.0, max=37.0), HTML(value='')))"
      ]
     },
     "metadata": {},
     "output_type": "display_data"
    },
    {
     "name": "stderr",
     "output_type": "stream",
     "text": [
      "/Users/debunt/Work_Learning/programming/Jupyter/venv/lib/python3.7/site-packages/ipykernel_launcher.py:11: TqdmDeprecationWarning: This function will be removed in tqdm==5.0.0\n",
      "Please use `tqdm.notebook.tqdm` instead of `tqdm.tqdm_notebook`\n",
      "  # This is added back by InteractiveShellApp.init_path()\n"
     ]
    },
    {
     "data": {
      "application/vnd.jupyter.widget-view+json": {
       "model_id": "1364202c4b414f889508f2b3e38e2ace",
       "version_major": 2,
       "version_minor": 0
      },
      "text/plain": [
       "HBox(children=(FloatProgress(value=0.0, max=13626.0), HTML(value='')))"
      ]
     },
     "metadata": {},
     "output_type": "display_data"
    },
    {
     "name": "stdout",
     "output_type": "stream",
     "text": [
      "\n"
     ]
    },
    {
     "data": {
      "application/vnd.jupyter.widget-view+json": {
       "model_id": "3126f374d1a64b8f82821af25c09b126",
       "version_major": 2,
       "version_minor": 0
      },
      "text/plain": [
       "HBox(children=(FloatProgress(value=0.0, max=14292.0), HTML(value='')))"
      ]
     },
     "metadata": {},
     "output_type": "display_data"
    }
   ],
   "source": [
    "from tqdm import tqdm_notebook\n",
    "def foo(row):\n",
    "    if row[\"not_found\"] == 0:\n",
    "        return (foo.last_found - row[\"starts_at\"]).days\n",
    "    else:\n",
    "        foo.last_found = row[\"starts_at\"]\n",
    "        return 0\n",
    "    \n",
    "for id1,group1 in tqdm_notebook(df.groupby(\"store_id\")):\n",
    "    \n",
    "    for prod2, group2 in tqdm_notebook(group1.groupby('product_id')):\n",
    "        foo.last_found = group2.at[group2[\"starts_at\"].index[0], \"starts_at\"]\n",
    "        for idd, row in group2.iterrows():\n",
    "#             print(idd)\n",
    "            df.at[idd, \"diff\"] = foo(row)\n",
    "\n"
   ]
  },
  {
   "cell_type": "code",
   "execution_count": 171,
   "metadata": {},
   "outputs": [
    {
     "data": {
      "text/html": [
       "<div>\n",
       "<style scoped>\n",
       "    .dataframe tbody tr th:only-of-type {\n",
       "        vertical-align: middle;\n",
       "    }\n",
       "\n",
       "    .dataframe tbody tr th {\n",
       "        vertical-align: top;\n",
       "    }\n",
       "\n",
       "    .dataframe thead th {\n",
       "        text-align: right;\n",
       "    }\n",
       "</style>\n",
       "<table border=\"1\" class=\"dataframe\">\n",
       "  <thead>\n",
       "    <tr style=\"text-align: right;\">\n",
       "      <th></th>\n",
       "      <th>department</th>\n",
       "      <th>quantity</th>\n",
       "      <th>category</th>\n",
       "      <th>package_type</th>\n",
       "      <th>not_found</th>\n",
       "      <th>store_id</th>\n",
       "      <th>stock</th>\n",
       "      <th>brand</th>\n",
       "      <th>collection_day</th>\n",
       "      <th>product_id</th>\n",
       "      <th>city</th>\n",
       "      <th>promotion_price</th>\n",
       "      <th>regular_price</th>\n",
       "      <th>completed_at</th>\n",
       "      <th>starts_at</th>\n",
       "      <th>order_identifier</th>\n",
       "    </tr>\n",
       "  </thead>\n",
       "  <tbody>\n",
       "    <tr>\n",
       "      <td>3181857</td>\n",
       "      <td>МОЛОЧНЫЕ</td>\n",
       "      <td>1</td>\n",
       "      <td>молоко</td>\n",
       "      <td>ШТУКА</td>\n",
       "      <td>0</td>\n",
       "      <td>14</td>\n",
       "      <td>1525.0</td>\n",
       "      <td>RIOBA</td>\n",
       "      <td>2017-01-09</td>\n",
       "      <td>9959.0</td>\n",
       "      <td>1</td>\n",
       "      <td>0</td>\n",
       "      <td>57.950</td>\n",
       "      <td>2017-01-09 07:26:00</td>\n",
       "      <td>2017-01-09 11:00:00</td>\n",
       "      <td>338528</td>\n",
       "    </tr>\n",
       "    <tr>\n",
       "      <td>1536251</td>\n",
       "      <td>КОНСЕРВЫ</td>\n",
       "      <td>1</td>\n",
       "      <td>уход за животными</td>\n",
       "      <td>ШТУКА</td>\n",
       "      <td>1</td>\n",
       "      <td>12</td>\n",
       "      <td>181.0</td>\n",
       "      <td>ARO</td>\n",
       "      <td>2017-01-09</td>\n",
       "      <td>84059.0</td>\n",
       "      <td>1</td>\n",
       "      <td>0</td>\n",
       "      <td>64.988</td>\n",
       "      <td>2017-01-09 05:42:00</td>\n",
       "      <td>2017-01-09 11:00:00</td>\n",
       "      <td>338513</td>\n",
       "    </tr>\n",
       "    <tr>\n",
       "      <td>3182090</td>\n",
       "      <td>МОЛОЧНЫЕ</td>\n",
       "      <td>1</td>\n",
       "      <td>молочные продукты</td>\n",
       "      <td>ШТУКА</td>\n",
       "      <td>0</td>\n",
       "      <td>12</td>\n",
       "      <td>3.0</td>\n",
       "      <td>ЧУДО</td>\n",
       "      <td>2017-01-09</td>\n",
       "      <td>39569.0</td>\n",
       "      <td>1</td>\n",
       "      <td>0</td>\n",
       "      <td>42.245</td>\n",
       "      <td>2017-01-09 05:42:00</td>\n",
       "      <td>2017-01-09 11:00:00</td>\n",
       "      <td>338513</td>\n",
       "    </tr>\n",
       "    <tr>\n",
       "      <td>3182091</td>\n",
       "      <td>МОЛОЧНЫЕ</td>\n",
       "      <td>4</td>\n",
       "      <td>сливки</td>\n",
       "      <td>ШТУКА</td>\n",
       "      <td>0</td>\n",
       "      <td>12</td>\n",
       "      <td>377.0</td>\n",
       "      <td>FINE LIFE</td>\n",
       "      <td>2017-01-09</td>\n",
       "      <td>14508.0</td>\n",
       "      <td>1</td>\n",
       "      <td>0</td>\n",
       "      <td>54.845</td>\n",
       "      <td>2017-01-09 05:42:00</td>\n",
       "      <td>2017-01-09 11:00:00</td>\n",
       "      <td>338513</td>\n",
       "    </tr>\n",
       "    <tr>\n",
       "      <td>605609</td>\n",
       "      <td>ЗАМОРОЗКА</td>\n",
       "      <td>1</td>\n",
       "      <td>замороженный картофель</td>\n",
       "      <td>ШТУКА</td>\n",
       "      <td>0</td>\n",
       "      <td>14</td>\n",
       "      <td>105.0</td>\n",
       "      <td>HORECA SELECT</td>\n",
       "      <td>2017-01-09</td>\n",
       "      <td>37260.0</td>\n",
       "      <td>1</td>\n",
       "      <td>0</td>\n",
       "      <td>246.446</td>\n",
       "      <td>2017-01-09 07:26:00</td>\n",
       "      <td>2017-01-09 11:00:00</td>\n",
       "      <td>338528</td>\n",
       "    </tr>\n",
       "  </tbody>\n",
       "</table>\n",
       "</div>"
      ],
      "text/plain": [
       "        department  quantity                category package_type  not_found  \\\n",
       "3181857   МОЛОЧНЫЕ         1                  молоко        ШТУКА          0   \n",
       "1536251   КОНСЕРВЫ         1       уход за животными        ШТУКА          1   \n",
       "3182090   МОЛОЧНЫЕ         1       молочные продукты        ШТУКА          0   \n",
       "3182091   МОЛОЧНЫЕ         4                  сливки        ШТУКА          0   \n",
       "605609   ЗАМОРОЗКА         1  замороженный картофель        ШТУКА          0   \n",
       "\n",
       "         store_id   stock          brand collection_day  product_id  city  \\\n",
       "3181857        14  1525.0          RIOBA     2017-01-09      9959.0     1   \n",
       "1536251        12   181.0            ARO     2017-01-09     84059.0     1   \n",
       "3182090        12     3.0           ЧУДО     2017-01-09     39569.0     1   \n",
       "3182091        12   377.0      FINE LIFE     2017-01-09     14508.0     1   \n",
       "605609         14   105.0  HORECA SELECT     2017-01-09     37260.0     1   \n",
       "\n",
       "         promotion_price  regular_price        completed_at  \\\n",
       "3181857                0         57.950 2017-01-09 07:26:00   \n",
       "1536251                0         64.988 2017-01-09 05:42:00   \n",
       "3182090                0         42.245 2017-01-09 05:42:00   \n",
       "3182091                0         54.845 2017-01-09 05:42:00   \n",
       "605609                 0        246.446 2017-01-09 07:26:00   \n",
       "\n",
       "                  starts_at  order_identifier  \n",
       "3181857 2017-01-09 11:00:00            338528  \n",
       "1536251 2017-01-09 11:00:00            338513  \n",
       "3182090 2017-01-09 11:00:00            338513  \n",
       "3182091 2017-01-09 11:00:00            338513  \n",
       "605609  2017-01-09 11:00:00            338528  "
      ]
     },
     "execution_count": 171,
     "metadata": {},
     "output_type": "execute_result"
    }
   ],
   "source": [
    "df.head()"
   ]
  },
  {
   "cell_type": "code",
   "execution_count": null,
   "metadata": {},
   "outputs": [],
   "source": [
    "df.to_csv(\"part1_diff.csv\")"
   ]
  },
  {
   "cell_type": "code",
   "execution_count": 158,
   "metadata": {},
   "outputs": [
    {
     "data": {
      "text/plain": [
       "<matplotlib.axes._subplots.AxesSubplot at 0x22e7ccb8cf8>"
      ]
     },
     "execution_count": 158,
     "metadata": {},
     "output_type": "execute_result"
    },
    {
     "data": {
      "image/png": "[encoded data removed]",
      "text/plain": [
       "<Figure size 720x720 with 1 Axes>"
      ]
     },
     "metadata": {
      "needs_background": "light"
     },
     "output_type": "display_data"
    }
   ],
   "source": [
    "from tqdm import tqdm_notebook\n",
    "for id1,group1 in tqdm_notebook(df.groupby(\"store_id\")):\n",
    "    for prod2, group2 in tqdm_notebook(group1.groupby('product_id')):\n",
    "        last_found = group2.at[group2[\"starts_at\"].index[0], \"starts_at\"]\n",
    "        for i, row in group2.iterrows():\n",
    "            if row[\"not_found\"] == 0:\n",
    "                group2.at[i, \"diff\"] = (last_found - row[\"starts_at\"]).days\n",
    "            else:\n",
    "                last_found = row[\"starts_at\"]\n",
    "                group2.at[i, \"diff\"] = 0"
   ]
  },
  {
   "cell_type": "code",
   "execution_count": 3,
   "metadata": {},
   "outputs": [],
   "source": [
    "df = pd.read_csv(r'd:\\Загрузки\\part1.csv')"
   ]
  },
  {
   "cell_type": "code",
   "execution_count": 9,
   "metadata": {},
   "outputs": [],
   "source": [
    "# Функция preprocess_customer выполняет препроцессинг датасета customer. Сейчас можно выбрать\n",
    "# один или несколько способов закодировать категориальные переменные - One Hot Encoding,\n",
    "# Frequency encoding и mean encoding. Соответственно, в encodings надо передавать занчения 'mean',\n",
    "# 'one-hot' или 'frequency'. Label Encoding будет по умолчанию.\n",
    "def preprocess_customer(customer, categories, encodings=[], drop_original=False, most_often_departments=15, most_often_categories=15):\n",
    "    cust = customer.copy()\n",
    "\n",
    "\n",
    "    # job_title переводим в нижний регистр\n",
    "    for category in categories:\n",
    "        cust[category] = cust[category].str.lower()\n",
    "\n",
    "\n",
    "    # Кодируем и заполняем пропуски\n",
    "    cust = label_encode_customer(cust, categories)\n",
    "\n",
    "    for encoding in encodings:\n",
    "        if encoding == 'one-hot':\n",
    "            common_jobs = cust['department'].value_counts().index[:most_often_departments]\n",
    "            cust['department'] = cust['department'].apply(lambda x:\n",
    "                                                        x if x in common_jobs else -1)\n",
    "            common_jobs = cust['category'].value_counts().index[:most_often_categories]\n",
    "            cust['category'] = cust['category'].apply(lambda x:\n",
    "                                                        x if x in common_jobs else -1)\n",
    "            columns_to_encode = categories\n",
    "            for col in columns_to_encode:\n",
    "                one_hot = pd.get_dummies(cust[col])\n",
    "                one_hot.columns = [f'{col}_one_hot_{str(val)}' for val in one_hot.columns]\n",
    "                cust = pd.concat([cust, one_hot], axis=1)\n",
    "\n",
    "\n",
    "    return cust\n"
   ]
  },
  {
   "cell_type": "markdown",
   "metadata": {},
   "source": [
    "### создаю словарик с категориями и hash значением (порядковым номером)"
   ]
  },
  {
   "cell_type": "code",
   "execution_count": 151,
   "metadata": {},
   "outputs": [],
   "source": [
    "from collections import defaultdict\n",
    "categories = ['department','category','package_type','brand']\n",
    "# df = preprocess_customer(df, categories)\n",
    "good_types = defaultdict() #\n",
    "for i, name in enumerate(df[\"category\"].unique()):\n",
    "    good_types[name] = i\n",
    "df[\"category\"] = df[\"category\"].apply(lambda x: good_types[x]) # имена в категории заменяю числом"
   ]
  },
  {
   "cell_type": "markdown",
   "metadata": {},
   "source": [
    "### df_notfound_rate"
   ]
  },
  {
   "cell_type": "code",
   "execution_count": 168,
   "metadata": {},
   "outputs": [
    {
     "data": {
      "text/plain": [
       "array([18, 13,  9, 15, 10,  6, 17,  8,  5, 11, 12,  7, 16, 19, 14, 20,  4],\n",
       "      dtype=int64)"
      ]
     },
     "execution_count": 168,
     "metadata": {},
     "output_type": "execute_result"
    }
   ],
   "source": [
    "for hour in df[\"starts_at_hour\"].unique():\n",
    "    df[\"starts_at_hour\"] == \"hour\""
   ]
  },
  {
   "cell_type": "code",
   "execution_count": 171,
   "metadata": {},
   "outputs": [
    {
     "data": {
      "text/html": [
       "<div>\n",
       "<style scoped>\n",
       "    .dataframe tbody tr th:only-of-type {\n",
       "        vertical-align: middle;\n",
       "    }\n",
       "\n",
       "    .dataframe tbody tr th {\n",
       "        vertical-align: top;\n",
       "    }\n",
       "\n",
       "    .dataframe thead th {\n",
       "        text-align: right;\n",
       "    }\n",
       "</style>\n",
       "<table border=\"1\" class=\"dataframe\">\n",
       "  <thead>\n",
       "    <tr style=\"text-align: right;\">\n",
       "      <th></th>\n",
       "      <th>Unnamed: 0</th>\n",
       "      <th>department</th>\n",
       "      <th>product_name</th>\n",
       "      <th>quantity</th>\n",
       "      <th>category</th>\n",
       "      <th>package_type</th>\n",
       "      <th>not_found</th>\n",
       "      <th>store_id</th>\n",
       "      <th>stock</th>\n",
       "      <th>brand</th>\n",
       "      <th>collection_day</th>\n",
       "      <th>product_id</th>\n",
       "      <th>city</th>\n",
       "      <th>promotion_price</th>\n",
       "      <th>regular_price</th>\n",
       "      <th>completed_at</th>\n",
       "      <th>starts_at</th>\n",
       "      <th>order_identifier</th>\n",
       "      <th>shopper_login</th>\n",
       "    </tr>\n",
       "  </thead>\n",
       "  <tbody>\n",
       "    <tr>\n",
       "      <td>0</td>\n",
       "      <td>0</td>\n",
       "      <td>GIFTS (HAMPERS)</td>\n",
       "      <td>75Г ШОК.ТЕМ.ЭКВАДОР75% BARATTI</td>\n",
       "      <td>1</td>\n",
       "      <td>Подарочные корзины</td>\n",
       "      <td>ШТУКА</td>\n",
       "      <td>1</td>\n",
       "      <td>10</td>\n",
       "      <td>2.0</td>\n",
       "      <td>BARATTI</td>\n",
       "      <td>2018-04-10 00:00:00</td>\n",
       "      <td>4592903.0</td>\n",
       "      <td>1</td>\n",
       "      <td>NaN</td>\n",
       "      <td>78.650</td>\n",
       "      <td>2018-04-09 16:31:00</td>\n",
       "      <td>2018-04-10 21:00:00</td>\n",
       "      <td>925225</td>\n",
       "      <td>len_kd94</td>\n",
       "    </tr>\n",
       "    <tr>\n",
       "      <td>1</td>\n",
       "      <td>1</td>\n",
       "      <td>GIFTS (HAMPERS)</td>\n",
       "      <td>75Г ШОК.ГОР.АПЕЛ\\МИНД.BARATTI</td>\n",
       "      <td>1</td>\n",
       "      <td>Подарочные корзины</td>\n",
       "      <td>ШТУКА</td>\n",
       "      <td>1</td>\n",
       "      <td>10</td>\n",
       "      <td>17.0</td>\n",
       "      <td>BARATTI</td>\n",
       "      <td>2018-04-10 00:00:00</td>\n",
       "      <td>4592883.0</td>\n",
       "      <td>1</td>\n",
       "      <td>NaN</td>\n",
       "      <td>77.390</td>\n",
       "      <td>2018-04-09 16:31:00</td>\n",
       "      <td>2018-04-10 21:00:00</td>\n",
       "      <td>925225</td>\n",
       "      <td>len_kd94</td>\n",
       "    </tr>\n",
       "    <tr>\n",
       "      <td>2</td>\n",
       "      <td>2</td>\n",
       "      <td>GIFTS (HAMPERS)</td>\n",
       "      <td>20X1,8Г ЧАЙ ЗЕЛ МОХИТО CURTIS</td>\n",
       "      <td>1</td>\n",
       "      <td>Подарочные корзины</td>\n",
       "      <td>ШТУКА</td>\n",
       "      <td>1</td>\n",
       "      <td>8</td>\n",
       "      <td>91.0</td>\n",
       "      <td>CURTIS</td>\n",
       "      <td>2018-04-10 00:00:00</td>\n",
       "      <td>67225.0</td>\n",
       "      <td>1</td>\n",
       "      <td>NaN</td>\n",
       "      <td>49.643</td>\n",
       "      <td>2018-04-10 12:21:00</td>\n",
       "      <td>2018-04-10 16:00:00</td>\n",
       "      <td>883302</td>\n",
       "      <td>shel_pn96</td>\n",
       "    </tr>\n",
       "    <tr>\n",
       "      <td>3</td>\n",
       "      <td>3</td>\n",
       "      <td>GIFTS (HAMPERS)</td>\n",
       "      <td>75Г ШОК.ТЕМ.ЭКВАДОР75% BARATTI</td>\n",
       "      <td>1</td>\n",
       "      <td>Подарочные корзины</td>\n",
       "      <td>ШТУКА</td>\n",
       "      <td>1</td>\n",
       "      <td>67</td>\n",
       "      <td>5.0</td>\n",
       "      <td>BARATTI</td>\n",
       "      <td>2018-04-13 00:00:00</td>\n",
       "      <td>4592903.0</td>\n",
       "      <td>3</td>\n",
       "      <td>NaN</td>\n",
       "      <td>78.650</td>\n",
       "      <td>2018-04-12 20:22:00</td>\n",
       "      <td>2018-04-13 12:00:00</td>\n",
       "      <td>932567</td>\n",
       "      <td>sib_ss95</td>\n",
       "    </tr>\n",
       "    <tr>\n",
       "      <td>4</td>\n",
       "      <td>4</td>\n",
       "      <td>GIFTS (HAMPERS)</td>\n",
       "      <td>20X1,8Г ЧАЙ ЧЕР.ФРАН.ТРЮФ.CURT</td>\n",
       "      <td>2</td>\n",
       "      <td>Подарочные корзины</td>\n",
       "      <td>ШТУКА</td>\n",
       "      <td>1</td>\n",
       "      <td>12</td>\n",
       "      <td>1.0</td>\n",
       "      <td>CURTIS</td>\n",
       "      <td>2018-04-12 00:00:00</td>\n",
       "      <td>67976.0</td>\n",
       "      <td>1</td>\n",
       "      <td>NaN</td>\n",
       "      <td>49.643</td>\n",
       "      <td>2018-04-12 13:28:00</td>\n",
       "      <td>2018-04-12 18:00:00</td>\n",
       "      <td>932006</td>\n",
       "      <td>dubr_pu83</td>\n",
       "    </tr>\n",
       "  </tbody>\n",
       "</table>\n",
       "</div>"
      ],
      "text/plain": [
       "   Unnamed: 0       department                    product_name  quantity  \\\n",
       "0           0  GIFTS (HAMPERS)  75Г ШОК.ТЕМ.ЭКВАДОР75% BARATTI         1   \n",
       "1           1  GIFTS (HAMPERS)   75Г ШОК.ГОР.АПЕЛ\\МИНД.BARATTI         1   \n",
       "2           2  GIFTS (HAMPERS)  20X1,8Г ЧАЙ ЗЕЛ МОХИТО CURTIS          1   \n",
       "3           3  GIFTS (HAMPERS)  75Г ШОК.ТЕМ.ЭКВАДОР75% BARATTI         1   \n",
       "4           4  GIFTS (HAMPERS)  20X1,8Г ЧАЙ ЧЕР.ФРАН.ТРЮФ.CURT         2   \n",
       "\n",
       "             category package_type  not_found  store_id  stock    brand  \\\n",
       "0  Подарочные корзины        ШТУКА          1        10    2.0  BARATTI   \n",
       "1  Подарочные корзины        ШТУКА          1        10   17.0  BARATTI   \n",
       "2  Подарочные корзины        ШТУКА          1         8   91.0   CURTIS   \n",
       "3  Подарочные корзины        ШТУКА          1        67    5.0  BARATTI   \n",
       "4  Подарочные корзины        ШТУКА          1        12    1.0   CURTIS   \n",
       "\n",
       "        collection_day  product_id  city  promotion_price  regular_price  \\\n",
       "0  2018-04-10 00:00:00   4592903.0     1              NaN         78.650   \n",
       "1  2018-04-10 00:00:00   4592883.0     1              NaN         77.390   \n",
       "2  2018-04-10 00:00:00     67225.0     1              NaN         49.643   \n",
       "3  2018-04-13 00:00:00   4592903.0     3              NaN         78.650   \n",
       "4  2018-04-12 00:00:00     67976.0     1              NaN         49.643   \n",
       "\n",
       "          completed_at            starts_at  order_identifier shopper_login  \n",
       "0  2018-04-09 16:31:00  2018-04-10 21:00:00            925225      len_kd94  \n",
       "1  2018-04-09 16:31:00  2018-04-10 21:00:00            925225      len_kd94  \n",
       "2  2018-04-10 12:21:00  2018-04-10 16:00:00            883302     shel_pn96  \n",
       "3  2018-04-12 20:22:00  2018-04-13 12:00:00            932567      sib_ss95  \n",
       "4  2018-04-12 13:28:00  2018-04-12 18:00:00            932006     dubr_pu83  "
      ]
     },
     "execution_count": 171,
     "metadata": {},
     "output_type": "execute_result"
    }
   ],
   "source": [
    "df.head()"
   ]
  },
  {
   "attachments": {
    "image.png": {
     "image/png": "[encoded data removed]"
    }
   },
   "cell_type": "markdown",
   "metadata": {},
   "source": [
    "![image.png](attachment:image.png)"
   ]
  },
  {
   "cell_type": "code",
   "execution_count": 20,
   "metadata": {},
   "outputs": [
    {
     "data": {
      "text/html": [
       "<div>\n",
       "<style scoped>\n",
       "    .dataframe tbody tr th:only-of-type {\n",
       "        vertical-align: middle;\n",
       "    }\n",
       "\n",
       "    .dataframe tbody tr th {\n",
       "        vertical-align: top;\n",
       "    }\n",
       "\n",
       "    .dataframe thead th {\n",
       "        text-align: right;\n",
       "    }\n",
       "</style>\n",
       "<table border=\"1\" class=\"dataframe\">\n",
       "  <thead>\n",
       "    <tr style=\"text-align: right;\">\n",
       "      <th></th>\n",
       "      <th>id_order</th>\n",
       "      <th>sum</th>\n",
       "      <th>year</th>\n",
       "      <th>month</th>\n",
       "    </tr>\n",
       "  </thead>\n",
       "  <tbody>\n",
       "    <tr>\n",
       "      <td>0</td>\n",
       "      <td>98951</td>\n",
       "      <td>1859.281</td>\n",
       "      <td>2017</td>\n",
       "      <td>9</td>\n",
       "    </tr>\n",
       "    <tr>\n",
       "      <td>1</td>\n",
       "      <td>115757</td>\n",
       "      <td>8403.836</td>\n",
       "      <td>2017</td>\n",
       "      <td>11</td>\n",
       "    </tr>\n",
       "    <tr>\n",
       "      <td>2</td>\n",
       "      <td>136868</td>\n",
       "      <td>4274.752</td>\n",
       "      <td>2017</td>\n",
       "      <td>5</td>\n",
       "    </tr>\n",
       "    <tr>\n",
       "      <td>3</td>\n",
       "      <td>141469</td>\n",
       "      <td>6992.073</td>\n",
       "      <td>2017</td>\n",
       "      <td>3</td>\n",
       "    </tr>\n",
       "    <tr>\n",
       "      <td>4</td>\n",
       "      <td>172343</td>\n",
       "      <td>3123.386</td>\n",
       "      <td>2018</td>\n",
       "      <td>2</td>\n",
       "    </tr>\n",
       "  </tbody>\n",
       "</table>\n",
       "</div>"
      ],
      "text/plain": [
       "   id_order       sum  year  month\n",
       "0     98951  1859.281  2017      9\n",
       "1    115757  8403.836  2017     11\n",
       "2    136868  4274.752  2017      5\n",
       "3    141469  6992.073  2017      3\n",
       "4    172343  3123.386  2018      2"
      ]
     },
     "execution_count": 20,
     "metadata": {},
     "output_type": "execute_result"
    }
   ],
   "source": [
    "# df_cost = {\"id_order\" : list(), \"sum\" : list(), \"year\" : list(), \"month\" : list()}\n",
    "df = pd.read_csv(r'd:\\Загрузки\\part1.csv')\n",
    "df['starts_at'] = pd.to_datetime(df['starts_at'])\n",
    "df = create_time_features(df, time_column='starts_at')\n",
    "for id_order, group in df.groupby(\"order_identifier\"):\n",
    "    df_cost[\"id_order\"].append(id_order)\n",
    "    df_cost[\"sum\"].append((group[\"regular_price\"] * group[\"quantity\"]).sum())\n",
    "    df_cost[\"month\"].append(group.at[group.index[0], \"starts_at_month\"])\n",
    "    df_cost[\"year\"].append(group.at[group.index[0], \"starts_at_year\"])\n",
    "    \n",
    "_dfDataFrame= pd.DataFrame.from_dict(df_cost)\n",
    "_dfDataFrame.head()"
   ]
  },
  {
   "cell_type": "code",
   "execution_count": 37,
   "metadata": {},
   "outputs": [
    {
     "name": "stdout",
     "output_type": "stream",
     "text": [
      "year 2017 69047.33333333333\n",
      "year 2018 203071.66666666666\n",
      "year 2019 766.0\n",
      "year 2020 15600.0\n"
     ]
    }
   ],
   "source": [
    "for year in _dfDataFrame[\"year\"].unique():\n",
    "    print(\"year\",year, _dfDataFrame[_dfDataFrame[\"year\"] == year].size / 12)"
   ]
  },
  {
   "cell_type": "code",
   "execution_count": 44,
   "metadata": {},
   "outputs": [
    {
     "data": {
      "text/plain": [
       "2190"
      ]
     },
     "execution_count": 44,
     "metadata": {},
     "output_type": "execute_result"
    }
   ],
   "source": [
    "df[df[\"starts_at_year\"] == 2017][\"order_identifier\"].unique().size"
   ]
  },
  {
   "cell_type": "code",
   "execution_count": 57,
   "metadata": {},
   "outputs": [],
   "source": [
    "df1 = pd.read_csv(r'd:\\Загрузки\\part1.csv')\n"
   ]
  },
  {
   "cell_type": "code",
   "execution_count": 58,
   "metadata": {},
   "outputs": [],
   "source": [
    "df1['starts_at'] = pd.to_datetime(df1['starts_at'])\n",
    "df1 = create_time_features(df1, time_column='starts_at')"
   ]
  },
  {
   "cell_type": "code",
   "execution_count": 59,
   "metadata": {},
   "outputs": [
    {
     "data": {
      "text/plain": [
       "26788242"
      ]
     },
     "execution_count": 59,
     "metadata": {},
     "output_type": "execute_result"
    }
   ],
   "source": [
    "df1[df1[\"starts_at_year\"] == 2017].size"
   ]
  },
  {
   "cell_type": "code",
   "execution_count": 60,
   "metadata": {},
   "outputs": [
    {
     "data": {
      "text/plain": [
       "76416888.49812503"
      ]
     },
     "execution_count": 60,
     "metadata": {},
     "output_type": "execute_result"
    }
   ],
   "source": [
    "s = 0\n",
    "_kk  = df1[df1[\"starts_at_year\"] == 2017]\n",
    "s = (_kk[\"regular_price\"] * _kk[\"quantity\"]).sum()\n",
    "_kk  = df1[df1[\"starts_at_year\"] == 2018]\n",
    "s += (_kk[\"regular_price\"] * _kk[\"quantity\"]).sum()\n",
    "s / 24"
   ]
  },
  {
   "cell_type": "code",
   "execution_count": 62,
   "metadata": {},
   "outputs": [
    {
     "data": {
      "text/plain": [
       "75000000.0"
      ]
     },
     "execution_count": 62,
     "metadata": {},
     "output_type": "execute_result"
    }
   ],
   "source": [
    "4500 * 400000/24"
   ]
  },
  {
   "cell_type": "code",
   "execution_count": 72,
   "metadata": {},
   "outputs": [
    {
     "data": {
      "text/plain": [
       "16913.041666666668"
      ]
     },
     "execution_count": 72,
     "metadata": {},
     "output_type": "execute_result"
    }
   ],
   "source": [
    "x1 = df1[df1[\"starts_at_year\"] == 2017][\"order_identifier\"].unique().shape[0]\n",
    "x2 = df1[df1[\"starts_at_year\"] == 2018][\"order_identifier\"].unique().shape[0]\n",
    "(x1 + x2)/24\n"
   ]
  },
  {
   "cell_type": "code",
   "execution_count": 83,
   "metadata": {},
   "outputs": [],
   "source": [
    "df_cost = {\"sum\" : list()}\n",
    "x1 = df1[df1[\"starts_at_year\"] == 2018]\n",
    "# x2 = df1[df1[\"starts_at_year\"] == 2018][\"order_identifier\"].unique().shape[0]\n",
    "for id_order, group in x1.groupby(\"order_identifier\"):\n",
    "    df_cost[\"sum\"].append((group[\"regular_price\"] * group[\"quantity\"]).sum())"
   ]
  },
  {
   "cell_type": "code",
   "execution_count": 112,
   "metadata": {},
   "outputs": [
    {
     "data": {
      "text/html": [
       "<div>\n",
       "<style scoped>\n",
       "    .dataframe tbody tr th:only-of-type {\n",
       "        vertical-align: middle;\n",
       "    }\n",
       "\n",
       "    .dataframe tbody tr th {\n",
       "        vertical-align: top;\n",
       "    }\n",
       "\n",
       "    .dataframe thead th {\n",
       "        text-align: right;\n",
       "    }\n",
       "</style>\n",
       "<table border=\"1\" class=\"dataframe\">\n",
       "  <thead>\n",
       "    <tr style=\"text-align: right;\">\n",
       "      <th></th>\n",
       "      <th>s</th>\n",
       "    </tr>\n",
       "  </thead>\n",
       "  <tbody>\n",
       "    <tr>\n",
       "      <td>0</td>\n",
       "      <td>0         False\n",
       "1         False\n",
       "2         Fals...</td>\n",
       "    </tr>\n",
       "  </tbody>\n",
       "</table>\n",
       "</div>"
      ],
      "text/plain": [
       "                                                   s\n",
       "0  0         False\n",
       "1         False\n",
       "2         Fals..."
      ]
     },
     "execution_count": 112,
     "metadata": {},
     "output_type": "execute_result"
    }
   ],
   "source": [
    "# _dfDataFrame2017 = pd.DataFrame.from_dict(df_cost) \n",
    "pd.DataFrame({\"s\" : [_dfDataFrame2017[\"sum\"] > 11000]})"
   ]
  },
  {
   "cell_type": "code",
   "execution_count": 117,
   "metadata": {},
   "outputs": [
    {
     "data": {
      "text/plain": [
       "0.3649057803026757"
      ]
     },
     "execution_count": 117,
     "metadata": {},
     "output_type": "execute_result"
    }
   ],
   "source": [
    "(_dfDataFrame2018[_dfDataFrame2018[\"sum\"] < 1500].size + _dfDataFrame2017[_dfDataFrame2017[\"sum\"] < 1500].size) / (_dfDataFrame2018.size + _dfDataFrame2017.size)"
   ]
  },
  {
   "cell_type": "code",
   "execution_count": 121,
   "metadata": {},
   "outputs": [
    {
     "name": "stderr",
     "output_type": "stream",
     "text": [
      "d:\\jupyter\\venv\\lib\\site-packages\\ipykernel_launcher.py:3: UserWarning: Boolean Series key will be reindexed to match DataFrame index.\n",
      "  This is separate from the ipykernel package so we can avoid doing imports until\n"
     ]
    },
    {
     "ename": "IndexingError",
     "evalue": "Unalignable boolean Series provided as indexer (index of the boolean Series and of the indexed object do not match).",
     "output_type": "error",
     "traceback": [
      "\u001b[1;31m---------------------------------------------------------------------------\u001b[0m",
      "\u001b[1;31mIndexingError\u001b[0m                             Traceback (most recent call last)",
      "\u001b[1;32m<ipython-input-121-6c63ce72e72e>\u001b[0m in \u001b[0;36m<module>\u001b[1;34m\u001b[0m\n\u001b[0;32m      1\u001b[0m \u001b[0mx1\u001b[0m \u001b[1;33m=\u001b[0m \u001b[0m_dfDataFrame2018\u001b[0m\u001b[1;33m[\u001b[0m\u001b[0m_dfDataFrame2018\u001b[0m\u001b[1;33m[\u001b[0m\u001b[1;34m\"sum\"\u001b[0m\u001b[1;33m]\u001b[0m \u001b[1;33m>\u001b[0m \u001b[1;36m5000\u001b[0m\u001b[1;33m]\u001b[0m\u001b[1;33m\u001b[0m\u001b[1;33m\u001b[0m\u001b[0m\n\u001b[0;32m      2\u001b[0m \u001b[1;33m\u001b[0m\u001b[0m\n\u001b[1;32m----> 3\u001b[1;33m \u001b[1;33m(\u001b[0m\u001b[0m_dfDataFrame2018\u001b[0m\u001b[1;33m[\u001b[0m\u001b[0mx1\u001b[0m\u001b[1;33m[\u001b[0m\u001b[1;34m\"sum\"\u001b[0m\u001b[1;33m]\u001b[0m \u001b[1;33m<\u001b[0m \u001b[1;36m11500\u001b[0m\u001b[1;33m]\u001b[0m\u001b[1;33m.\u001b[0m\u001b[0msize\u001b[0m \u001b[1;33m+\u001b[0m \u001b[0m_dfDataFrame2017\u001b[0m\u001b[1;33m[\u001b[0m\u001b[0m_dfDataFrame2017\u001b[0m\u001b[1;33m[\u001b[0m\u001b[1;34m\"sum\"\u001b[0m\u001b[1;33m]\u001b[0m \u001b[1;33m<\u001b[0m \u001b[1;36m5000\u001b[0m\u001b[1;33m]\u001b[0m\u001b[1;33m.\u001b[0m\u001b[0msize\u001b[0m\u001b[1;33m)\u001b[0m \u001b[1;33m/\u001b[0m \u001b[1;33m(\u001b[0m\u001b[0m_dfDataFrame2018\u001b[0m\u001b[1;33m.\u001b[0m\u001b[0msize\u001b[0m \u001b[1;33m+\u001b[0m \u001b[0m_dfDataFrame2017\u001b[0m\u001b[1;33m.\u001b[0m\u001b[0msize\u001b[0m\u001b[1;33m)\u001b[0m\u001b[1;33m\u001b[0m\u001b[1;33m\u001b[0m\u001b[0m\n\u001b[0m",
      "\u001b[1;32md:\\jupyter\\venv\\lib\\site-packages\\pandas\\core\\frame.py\u001b[0m in \u001b[0;36m__getitem__\u001b[1;34m(self, key)\u001b[0m\n\u001b[0;32m   2969\u001b[0m         \u001b[1;31m# Do we have a (boolean) 1d indexer?\u001b[0m\u001b[1;33m\u001b[0m\u001b[1;33m\u001b[0m\u001b[1;33m\u001b[0m\u001b[0m\n\u001b[0;32m   2970\u001b[0m         \u001b[1;32mif\u001b[0m \u001b[0mcom\u001b[0m\u001b[1;33m.\u001b[0m\u001b[0mis_bool_indexer\u001b[0m\u001b[1;33m(\u001b[0m\u001b[0mkey\u001b[0m\u001b[1;33m)\u001b[0m\u001b[1;33m:\u001b[0m\u001b[1;33m\u001b[0m\u001b[1;33m\u001b[0m\u001b[0m\n\u001b[1;32m-> 2971\u001b[1;33m             \u001b[1;32mreturn\u001b[0m \u001b[0mself\u001b[0m\u001b[1;33m.\u001b[0m\u001b[0m_getitem_bool_array\u001b[0m\u001b[1;33m(\u001b[0m\u001b[0mkey\u001b[0m\u001b[1;33m)\u001b[0m\u001b[1;33m\u001b[0m\u001b[1;33m\u001b[0m\u001b[0m\n\u001b[0m\u001b[0;32m   2972\u001b[0m \u001b[1;33m\u001b[0m\u001b[0m\n\u001b[0;32m   2973\u001b[0m         \u001b[1;31m# We are left with two options: a single key, and a collection of keys,\u001b[0m\u001b[1;33m\u001b[0m\u001b[1;33m\u001b[0m\u001b[1;33m\u001b[0m\u001b[0m\n",
      "\u001b[1;32md:\\jupyter\\venv\\lib\\site-packages\\pandas\\core\\frame.py\u001b[0m in \u001b[0;36m_getitem_bool_array\u001b[1;34m(self, key)\u001b[0m\n\u001b[0;32m   3021\u001b[0m         \u001b[1;31m# check_bool_indexer will throw exception if Series key cannot\u001b[0m\u001b[1;33m\u001b[0m\u001b[1;33m\u001b[0m\u001b[1;33m\u001b[0m\u001b[0m\n\u001b[0;32m   3022\u001b[0m         \u001b[1;31m# be reindexed to match DataFrame rows\u001b[0m\u001b[1;33m\u001b[0m\u001b[1;33m\u001b[0m\u001b[1;33m\u001b[0m\u001b[0m\n\u001b[1;32m-> 3023\u001b[1;33m         \u001b[0mkey\u001b[0m \u001b[1;33m=\u001b[0m \u001b[0mcheck_bool_indexer\u001b[0m\u001b[1;33m(\u001b[0m\u001b[0mself\u001b[0m\u001b[1;33m.\u001b[0m\u001b[0mindex\u001b[0m\u001b[1;33m,\u001b[0m \u001b[0mkey\u001b[0m\u001b[1;33m)\u001b[0m\u001b[1;33m\u001b[0m\u001b[1;33m\u001b[0m\u001b[0m\n\u001b[0m\u001b[0;32m   3024\u001b[0m         \u001b[0mindexer\u001b[0m \u001b[1;33m=\u001b[0m \u001b[0mkey\u001b[0m\u001b[1;33m.\u001b[0m\u001b[0mnonzero\u001b[0m\u001b[1;33m(\u001b[0m\u001b[1;33m)\u001b[0m\u001b[1;33m[\u001b[0m\u001b[1;36m0\u001b[0m\u001b[1;33m]\u001b[0m\u001b[1;33m\u001b[0m\u001b[1;33m\u001b[0m\u001b[0m\n\u001b[0;32m   3025\u001b[0m         \u001b[1;32mreturn\u001b[0m \u001b[0mself\u001b[0m\u001b[1;33m.\u001b[0m\u001b[0mtake\u001b[0m\u001b[1;33m(\u001b[0m\u001b[0mindexer\u001b[0m\u001b[1;33m,\u001b[0m \u001b[0maxis\u001b[0m\u001b[1;33m=\u001b[0m\u001b[1;36m0\u001b[0m\u001b[1;33m)\u001b[0m\u001b[1;33m\u001b[0m\u001b[1;33m\u001b[0m\u001b[0m\n",
      "\u001b[1;32md:\\jupyter\\venv\\lib\\site-packages\\pandas\\core\\indexing.py\u001b[0m in \u001b[0;36mcheck_bool_indexer\u001b[1;34m(index, key)\u001b[0m\n\u001b[0;32m   2409\u001b[0m         \u001b[1;32mif\u001b[0m \u001b[0mmask\u001b[0m\u001b[1;33m.\u001b[0m\u001b[0many\u001b[0m\u001b[1;33m(\u001b[0m\u001b[1;33m)\u001b[0m\u001b[1;33m:\u001b[0m\u001b[1;33m\u001b[0m\u001b[1;33m\u001b[0m\u001b[0m\n\u001b[0;32m   2410\u001b[0m             raise IndexingError(\n\u001b[1;32m-> 2411\u001b[1;33m                 \u001b[1;34m\"Unalignable boolean Series provided as \"\u001b[0m\u001b[1;33m\u001b[0m\u001b[1;33m\u001b[0m\u001b[0m\n\u001b[0m\u001b[0;32m   2412\u001b[0m                 \u001b[1;34m\"indexer (index of the boolean Series and of \"\u001b[0m\u001b[1;33m\u001b[0m\u001b[1;33m\u001b[0m\u001b[0m\n\u001b[0;32m   2413\u001b[0m                 \u001b[1;34m\"the indexed object do not match).\"\u001b[0m\u001b[1;33m\u001b[0m\u001b[1;33m\u001b[0m\u001b[0m\n",
      "\u001b[1;31mIndexingError\u001b[0m: Unalignable boolean Series provided as indexer (index of the boolean Series and of the indexed object do not match)."
     ]
    }
   ],
   "source": [
    "x1 = _dfDataFrame2018[_dfDataFrame2018[\"sum\"] > 5000]\n",
    "\n",
    "(_dfDataFrame2018[x1[\"sum\"] < 11500].size + _dfDataFrame2017[_dfDataFrame2017[\"sum\"] < 5000].size) / (_dfDataFrame2018.size + _dfDataFrame2017.size)"
   ]
  },
  {
   "cell_type": "code",
   "execution_count": 116,
   "metadata": {},
   "outputs": [
    {
     "data": {
      "text/plain": [
       "148120"
      ]
     },
     "execution_count": 116,
     "metadata": {},
     "output_type": "execute_result"
    }
   ],
   "source": [
    "# _dfDataFrame2018 = pd.DataFrame.from_dict(df_cost) \n",
    "(_dfDataFrame2018[_dfDataFrame2018[\"sum\"] < 1500].size + _dfDataFrame2017[_dfDataFrame2017[\"sum\"] < 1500].size)"
   ]
  },
  {
   "cell_type": "code",
   "execution_count": 201,
   "metadata": {},
   "outputs": [
    {
     "name": "stdout",
     "output_type": "stream",
     "text": [
      "Средний чек в группе больше 11000 руб -  30842 руб\n",
      "Отношение чеков > 11000 ко всем заказам -  4.828211749888787 %\n"
     ]
    }
   ],
   "source": [
    "_dfDataFrame= pd.DataFrame.from_dict(df_cost) \n",
    "print(\"Средний чек в группе больше 11000 руб - \", int(_dfDataFrame[_dfDataFrame[\"sum\"] > 11000][\"sum\"].mean()), \"руб\")\n",
    "\n",
    "fraction = _dfDataFrame[_dfDataFrame[\"sum\"] > 11000].size / _dfDataFrame.size\n",
    "\n",
    "print(\"Отношение чеков > 11000 ко всем заказам - \", fraction * 100, \"%\")"
   ]
  },
  {
   "cell_type": "code",
   "execution_count": 16,
   "metadata": {},
   "outputs": [],
   "source": [
    "for id_order, group in df.groupby(\"order_identifier\"):\n",
    "    df_cost[\"id_order\"].append(id_order)\n",
    "    df_cost[\"sum\"].append((group[\"regular_price\"] * group[\"quantity\"]).sum())\n",
    "    df_cost[\"month\"].append(group.at[group.index[0], \"starts_at_month\"])\n",
    "    df_cost[\"year\"].append(group.at[group.index[0], \"starts_at_year\"])\n",
    "    break"
   ]
  },
  {
   "cell_type": "code",
   "execution_count": 17,
   "metadata": {},
   "outputs": [
    {
     "data": {
      "text/plain": [
       "{'id_order': [98951, 98951, 98951, 98951],\n",
       " 'sum': [1859.281, 1859.281, 1859.281, 1859.281],\n",
       " 'year': [2017, 2017],\n",
       " 'month': [9, 9]}"
      ]
     },
     "execution_count": 17,
     "metadata": {},
     "output_type": "execute_result"
    }
   ],
   "source": [
    "df_cost"
   ]
  },
  {
   "cell_type": "code",
   "execution_count": 200,
   "metadata": {},
   "outputs": [],
   "source": [
    "df = pd.read_csv(r'd:\\Загрузки\\part3.csv')\n",
    "for id_order, group in df.groupby(\"order_identifier\"):\n",
    "    df_cost[\"id_order\"].append(id_order)\n",
    "    df_cost[\"sum\"].append((group[\"regular_price\"] * group[\"quantity\"]).sum())"
   ]
  },
  {
   "cell_type": "code",
   "execution_count": 123,
   "metadata": {},
   "outputs": [
    {
     "data": {
      "text/plain": [
       "4750.0"
      ]
     },
     "execution_count": 123,
     "metadata": {},
     "output_type": "execute_result"
    }
   ],
   "source": [
    "(4500 * 100 / 90) * 0.95"
   ]
  },
  {
   "cell_type": "code",
   "execution_count": 130,
   "metadata": {},
   "outputs": [
    {
     "data": {
      "text/plain": [
       "2168833.3333333335"
      ]
     },
     "execution_count": 130,
     "metadata": {},
     "output_type": "execute_result"
    }
   ],
   "source": [
    "(16900 * 30800) / 24 * 0.1"
   ]
  },
  {
   "cell_type": "code",
   "execution_count": 132,
   "metadata": {},
   "outputs": [
    {
     "data": {
      "text/plain": [
       "2498496.0"
      ]
     },
     "execution_count": 132,
     "metadata": {},
     "output_type": "execute_result"
    }
   ],
   "source": [
    "0.048 * 16900 * 30800 * 0.1 "
   ]
  },
  {
   "cell_type": "code",
   "execution_count": 141,
   "metadata": {},
   "outputs": [
    {
     "data": {
      "text/plain": [
       "0.0117184"
      ]
     },
     "execution_count": 141,
     "metadata": {},
     "output_type": "execute_result"
    }
   ],
   "source": [
    "((0.048 * 16900 + 10) * 30800 * 0.1 - 2500000)/2500000"
   ]
  },
  {
   "cell_type": "markdown",
   "metadata": {},
   "source": [
    "## Удаляю лишние столбцы"
   ]
  },
  {
   "cell_type": "code",
   "execution_count": 152,
   "metadata": {},
   "outputs": [
    {
     "data": {
      "text/html": [
       "<div>\n",
       "<style scoped>\n",
       "    .dataframe tbody tr th:only-of-type {\n",
       "        vertical-align: middle;\n",
       "    }\n",
       "\n",
       "    .dataframe tbody tr th {\n",
       "        vertical-align: top;\n",
       "    }\n",
       "\n",
       "    .dataframe thead th {\n",
       "        text-align: right;\n",
       "    }\n",
       "</style>\n",
       "<table border=\"1\" class=\"dataframe\">\n",
       "  <thead>\n",
       "    <tr style=\"text-align: right;\">\n",
       "      <th></th>\n",
       "      <th>quantity</th>\n",
       "      <th>category</th>\n",
       "      <th>not_found</th>\n",
       "      <th>store_id</th>\n",
       "      <th>stock</th>\n",
       "      <th>product_id</th>\n",
       "      <th>city</th>\n",
       "      <th>promotion_price</th>\n",
       "      <th>starts_at_hour</th>\n",
       "      <th>starts_at_dayofweek</th>\n",
       "      <th>starts_at_month</th>\n",
       "    </tr>\n",
       "  </thead>\n",
       "  <tbody>\n",
       "    <tr>\n",
       "      <td>0</td>\n",
       "      <td>1</td>\n",
       "      <td>0</td>\n",
       "      <td>1</td>\n",
       "      <td>10</td>\n",
       "      <td>2.0</td>\n",
       "      <td>4592903.0</td>\n",
       "      <td>1</td>\n",
       "      <td>0</td>\n",
       "      <td>18</td>\n",
       "      <td>1</td>\n",
       "      <td>4</td>\n",
       "    </tr>\n",
       "    <tr>\n",
       "      <td>1</td>\n",
       "      <td>1</td>\n",
       "      <td>0</td>\n",
       "      <td>1</td>\n",
       "      <td>10</td>\n",
       "      <td>17.0</td>\n",
       "      <td>4592883.0</td>\n",
       "      <td>1</td>\n",
       "      <td>0</td>\n",
       "      <td>18</td>\n",
       "      <td>1</td>\n",
       "      <td>4</td>\n",
       "    </tr>\n",
       "    <tr>\n",
       "      <td>2</td>\n",
       "      <td>1</td>\n",
       "      <td>0</td>\n",
       "      <td>1</td>\n",
       "      <td>8</td>\n",
       "      <td>91.0</td>\n",
       "      <td>67225.0</td>\n",
       "      <td>1</td>\n",
       "      <td>0</td>\n",
       "      <td>13</td>\n",
       "      <td>1</td>\n",
       "      <td>4</td>\n",
       "    </tr>\n",
       "    <tr>\n",
       "      <td>3</td>\n",
       "      <td>1</td>\n",
       "      <td>0</td>\n",
       "      <td>1</td>\n",
       "      <td>67</td>\n",
       "      <td>5.0</td>\n",
       "      <td>4592903.0</td>\n",
       "      <td>3</td>\n",
       "      <td>0</td>\n",
       "      <td>9</td>\n",
       "      <td>4</td>\n",
       "      <td>4</td>\n",
       "    </tr>\n",
       "    <tr>\n",
       "      <td>4</td>\n",
       "      <td>2</td>\n",
       "      <td>0</td>\n",
       "      <td>1</td>\n",
       "      <td>12</td>\n",
       "      <td>1.0</td>\n",
       "      <td>67976.0</td>\n",
       "      <td>1</td>\n",
       "      <td>0</td>\n",
       "      <td>15</td>\n",
       "      <td>3</td>\n",
       "      <td>4</td>\n",
       "    </tr>\n",
       "  </tbody>\n",
       "</table>\n",
       "</div>"
      ],
      "text/plain": [
       "   quantity  category  not_found  store_id  stock  product_id  city  \\\n",
       "0         1         0          1        10    2.0   4592903.0     1   \n",
       "1         1         0          1        10   17.0   4592883.0     1   \n",
       "2         1         0          1         8   91.0     67225.0     1   \n",
       "3         1         0          1        67    5.0   4592903.0     3   \n",
       "4         2         0          1        12    1.0     67976.0     1   \n",
       "\n",
       "   promotion_price  starts_at_hour  starts_at_dayofweek  starts_at_month  \n",
       "0                0              18                    1                4  \n",
       "1                0              18                    1                4  \n",
       "2                0              13                    1                4  \n",
       "3                0               9                    4                4  \n",
       "4                0              15                    3                4  "
      ]
     },
     "execution_count": 152,
     "metadata": {},
     "output_type": "execute_result"
    }
   ],
   "source": [
    "df_train = df.drop(columns=[\"order_identifier\", \"completed_at\", \"starts_at_weekofyear\", \"collection_day\", \"department\",\"regular_price\", \"starts_at_year\", \"package_type\", \"brand\", \"starts_at_dayofmonth\", \"starts_at_dayofyear\", \"starts_at_quarter\"])\n",
    "df_train.head()"
   ]
  },
  {
   "cell_type": "code",
   "execution_count": 153,
   "metadata": {},
   "outputs": [],
   "source": [
    "y=df_train['not_found']\n",
    "X = df_train.drop(columns=['not_found'])"
   ]
  },
  {
   "cell_type": "code",
   "execution_count": 154,
   "metadata": {},
   "outputs": [],
   "source": [
    "from sklearn.model_selection import train_test_split\n",
    "\n",
    "X_train, X_test, y_train, y_test = train_test_split(X,y, test_size=0.2, shuffle=True,stratify=y)"
   ]
  },
  {
   "cell_type": "code",
   "execution_count": 155,
   "metadata": {
    "scrolled": true
   },
   "outputs": [
    {
     "name": "stdout",
     "output_type": "stream",
     "text": [
      "Learning rate set to 0.5\n",
      "0:\tlearn: 0.4423476\ttotal: 680ms\tremaining: 1m 7s\n",
      "1:\tlearn: 0.3564806\ttotal: 1.47s\tremaining: 1m 11s\n",
      "2:\tlearn: 0.3210543\ttotal: 2.22s\tremaining: 1m 11s\n",
      "3:\tlearn: 0.3057882\ttotal: 2.93s\tremaining: 1m 10s\n",
      "4:\tlearn: 0.2993847\ttotal: 3.6s\tremaining: 1m 8s\n",
      "5:\tlearn: 0.2963210\ttotal: 4.21s\tremaining: 1m 5s\n",
      "6:\tlearn: 0.2949205\ttotal: 4.83s\tremaining: 1m 4s\n",
      "7:\tlearn: 0.2939392\ttotal: 5.46s\tremaining: 1m 2s\n",
      "8:\tlearn: 0.2933334\ttotal: 5.98s\tremaining: 1m\n",
      "9:\tlearn: 0.2928397\ttotal: 6.69s\tremaining: 1m\n",
      "10:\tlearn: 0.2925630\ttotal: 7.24s\tremaining: 58.6s\n",
      "11:\tlearn: 0.2921794\ttotal: 7.76s\tremaining: 56.9s\n",
      "12:\tlearn: 0.2917313\ttotal: 8.28s\tremaining: 55.4s\n",
      "13:\tlearn: 0.2915208\ttotal: 8.8s\tremaining: 54.1s\n",
      "14:\tlearn: 0.2912668\ttotal: 9.37s\tremaining: 53.1s\n",
      "15:\tlearn: 0.2911114\ttotal: 9.93s\tremaining: 52.1s\n",
      "16:\tlearn: 0.2908499\ttotal: 10.5s\tremaining: 51.2s\n",
      "17:\tlearn: 0.2905091\ttotal: 11.1s\tremaining: 50.4s\n",
      "18:\tlearn: 0.2902906\ttotal: 11.6s\tremaining: 49.6s\n",
      "19:\tlearn: 0.2901589\ttotal: 12.2s\tremaining: 48.6s\n",
      "20:\tlearn: 0.2899756\ttotal: 12.8s\tremaining: 48.2s\n",
      "21:\tlearn: 0.2898317\ttotal: 13.4s\tremaining: 47.6s\n",
      "22:\tlearn: 0.2897283\ttotal: 13.9s\tremaining: 46.7s\n",
      "23:\tlearn: 0.2894922\ttotal: 14.6s\tremaining: 46.3s\n",
      "24:\tlearn: 0.2893818\ttotal: 15.5s\tremaining: 46.6s\n",
      "25:\tlearn: 0.2892591\ttotal: 16.3s\tremaining: 46.5s\n",
      "26:\tlearn: 0.2891602\ttotal: 17.1s\tremaining: 46.2s\n",
      "27:\tlearn: 0.2887924\ttotal: 17.7s\tremaining: 45.6s\n",
      "28:\tlearn: 0.2886841\ttotal: 18.3s\tremaining: 44.9s\n",
      "29:\tlearn: 0.2886107\ttotal: 18.9s\tremaining: 44s\n",
      "30:\tlearn: 0.2884869\ttotal: 19.4s\tremaining: 43.2s\n",
      "31:\tlearn: 0.2884342\ttotal: 20s\tremaining: 42.4s\n",
      "32:\tlearn: 0.2883048\ttotal: 20.9s\tremaining: 42.4s\n",
      "33:\tlearn: 0.2881948\ttotal: 21.5s\tremaining: 41.8s\n",
      "34:\tlearn: 0.2880349\ttotal: 22.3s\tremaining: 41.4s\n",
      "35:\tlearn: 0.2879370\ttotal: 22.9s\tremaining: 40.8s\n",
      "36:\tlearn: 0.2878630\ttotal: 23.5s\tremaining: 40s\n",
      "37:\tlearn: 0.2877585\ttotal: 24s\tremaining: 39.2s\n",
      "38:\tlearn: 0.2876256\ttotal: 24.7s\tremaining: 38.6s\n",
      "39:\tlearn: 0.2875636\ttotal: 25.3s\tremaining: 37.9s\n",
      "40:\tlearn: 0.2875035\ttotal: 25.9s\tremaining: 37.3s\n",
      "41:\tlearn: 0.2874174\ttotal: 26.5s\tremaining: 36.6s\n",
      "42:\tlearn: 0.2872795\ttotal: 27.2s\tremaining: 36s\n",
      "43:\tlearn: 0.2871798\ttotal: 27.8s\tremaining: 35.4s\n",
      "44:\tlearn: 0.2871221\ttotal: 28.4s\tremaining: 34.7s\n",
      "45:\tlearn: 0.2870481\ttotal: 29s\tremaining: 34s\n",
      "46:\tlearn: 0.2869480\ttotal: 29.6s\tremaining: 33.3s\n",
      "47:\tlearn: 0.2869040\ttotal: 30.1s\tremaining: 32.6s\n",
      "48:\tlearn: 0.2868203\ttotal: 30.8s\tremaining: 32s\n",
      "49:\tlearn: 0.2867339\ttotal: 31.5s\tremaining: 31.5s\n",
      "50:\tlearn: 0.2866187\ttotal: 32.2s\tremaining: 30.9s\n",
      "51:\tlearn: 0.2865400\ttotal: 32.7s\tremaining: 30.2s\n",
      "52:\tlearn: 0.2865037\ttotal: 33.2s\tremaining: 29.5s\n",
      "53:\tlearn: 0.2864384\ttotal: 33.8s\tremaining: 28.8s\n",
      "54:\tlearn: 0.2863380\ttotal: 34.3s\tremaining: 28s\n",
      "55:\tlearn: 0.2862708\ttotal: 34.9s\tremaining: 27.4s\n",
      "56:\tlearn: 0.2861946\ttotal: 35.4s\tremaining: 26.7s\n",
      "57:\tlearn: 0.2861277\ttotal: 36s\tremaining: 26.1s\n",
      "58:\tlearn: 0.2860979\ttotal: 36.5s\tremaining: 25.4s\n",
      "59:\tlearn: 0.2860650\ttotal: 37s\tremaining: 24.6s\n",
      "60:\tlearn: 0.2860096\ttotal: 37.5s\tremaining: 24s\n",
      "61:\tlearn: 0.2859312\ttotal: 38s\tremaining: 23.3s\n",
      "62:\tlearn: 0.2858802\ttotal: 38.6s\tremaining: 22.6s\n",
      "63:\tlearn: 0.2858340\ttotal: 39.1s\tremaining: 22s\n",
      "64:\tlearn: 0.2857965\ttotal: 39.6s\tremaining: 21.3s\n",
      "65:\tlearn: 0.2857742\ttotal: 40.1s\tremaining: 20.7s\n",
      "66:\tlearn: 0.2857108\ttotal: 40.6s\tremaining: 20s\n",
      "67:\tlearn: 0.2855840\ttotal: 41.2s\tremaining: 19.4s\n",
      "68:\tlearn: 0.2854974\ttotal: 41.8s\tremaining: 18.8s\n",
      "69:\tlearn: 0.2854392\ttotal: 42.3s\tremaining: 18.1s\n",
      "70:\tlearn: 0.2853435\ttotal: 42.9s\tremaining: 17.5s\n",
      "71:\tlearn: 0.2853058\ttotal: 43.5s\tremaining: 16.9s\n",
      "72:\tlearn: 0.2852565\ttotal: 44s\tremaining: 16.3s\n",
      "73:\tlearn: 0.2851903\ttotal: 44.6s\tremaining: 15.7s\n",
      "74:\tlearn: 0.2851219\ttotal: 45.1s\tremaining: 15s\n",
      "75:\tlearn: 0.2850294\ttotal: 45.7s\tremaining: 14.4s\n",
      "76:\tlearn: 0.2849648\ttotal: 46.3s\tremaining: 13.8s\n",
      "77:\tlearn: 0.2849219\ttotal: 46.9s\tremaining: 13.2s\n",
      "78:\tlearn: 0.2848616\ttotal: 47.4s\tremaining: 12.6s\n",
      "79:\tlearn: 0.2848298\ttotal: 47.9s\tremaining: 12s\n",
      "80:\tlearn: 0.2848052\ttotal: 48.5s\tremaining: 11.4s\n",
      "81:\tlearn: 0.2847913\ttotal: 49s\tremaining: 10.7s\n",
      "82:\tlearn: 0.2847141\ttotal: 49.5s\tremaining: 10.1s\n",
      "83:\tlearn: 0.2846813\ttotal: 50s\tremaining: 9.52s\n",
      "84:\tlearn: 0.2846194\ttotal: 50.5s\tremaining: 8.92s\n",
      "85:\tlearn: 0.2845819\ttotal: 51.1s\tremaining: 8.31s\n",
      "86:\tlearn: 0.2845438\ttotal: 51.6s\tremaining: 7.71s\n",
      "87:\tlearn: 0.2844988\ttotal: 52.1s\tremaining: 7.11s\n",
      "88:\tlearn: 0.2844719\ttotal: 52.6s\tremaining: 6.5s\n",
      "89:\tlearn: 0.2844053\ttotal: 53.2s\tremaining: 5.91s\n",
      "90:\tlearn: 0.2843709\ttotal: 53.7s\tremaining: 5.31s\n",
      "91:\tlearn: 0.2843346\ttotal: 54.2s\tremaining: 4.72s\n",
      "92:\tlearn: 0.2842810\ttotal: 54.8s\tremaining: 4.12s\n",
      "93:\tlearn: 0.2842330\ttotal: 55.4s\tremaining: 3.53s\n",
      "94:\tlearn: 0.2841921\ttotal: 56s\tremaining: 2.94s\n",
      "95:\tlearn: 0.2840333\ttotal: 56.5s\tremaining: 2.35s\n",
      "96:\tlearn: 0.2840001\ttotal: 57s\tremaining: 1.76s\n",
      "97:\tlearn: 0.2839606\ttotal: 57.5s\tremaining: 1.17s\n",
      "98:\tlearn: 0.2839018\ttotal: 58.1s\tremaining: 587ms\n",
      "99:\tlearn: 0.2838608\ttotal: 58.6s\tremaining: 0us\n"
     ]
    },
    {
     "data": {
      "text/plain": [
       "<catboost.core.CatBoostClassifier at 0x23f3d36d470>"
      ]
     },
     "execution_count": 155,
     "metadata": {},
     "output_type": "execute_result"
    }
   ],
   "source": [
    "from catboost import CatBoostClassifier\n",
    "\n",
    "model = CatBoostClassifier(iterations=100,task_type=\"CPU\",devices='-1')\n",
    "model.fit(X_train,y_train,verbose=Truex`)"
   ]
  },
  {
   "cell_type": "markdown",
   "metadata": {},
   "source": [
    "### Метрики модели"
   ]
  },
  {
   "cell_type": "code",
   "execution_count": 146,
   "metadata": {},
   "outputs": [
    {
     "name": "stdout",
     "output_type": "stream",
     "text": [
      "Accuracy 0.903833125\n",
      "Precision 0.652986651420617\n",
      "Recall 0.08207959555434738\n",
      "f1 0.14582870719900518\n",
      "----Test-----\n",
      "Accuracy 0.9033325\n",
      "Precision 0.6334629574234719\n",
      "Recall 0.07940158228243617\n",
      "f1 0.14111505997334517\n"
     ]
    }
   ],
   "source": [
    "from sklearn.metrics import precision_score, recall_score, accuracy_score, f1_score\n",
    "from sklearn.metrics import roc_auc_score\n",
    "\n",
    "print('Accuracy', accuracy_score(y_train, model.predict(X_train)))\n",
    "print('Precision', precision_score(y_train, model.predict(X_train)))\n",
    "print('Recall', recall_score(y_train, model.predict(X_train)))\n",
    "print('f1', f1_score(y_train, model.predict(X_train)))\n",
    "#print(cv_model['logisticregressioncv'].C_)\n",
    "print(\"----Test-----\")\n",
    "print('Accuracy', accuracy_score(y_test, model.predict(X_test)))\n",
    "print('Precision', precision_score(y_test, model.predict(X_test)))\n",
    "print('Recall', recall_score(y_test, model.predict(X_test)))\n",
    "print('f1', f1_score(y_test, model.predict(X_test)))\n"
   ]
  },
  {
   "cell_type": "code",
   "execution_count": 156,
   "metadata": {},
   "outputs": [
    {
     "data": {
      "text/plain": [
       "0.535244091759697"
      ]
     },
     "execution_count": 156,
     "metadata": {},
     "output_type": "execute_result"
    }
   ],
   "source": [
    "roc_auc_score(y_test, model.predict(X_test))"
   ]
  },
  {
   "cell_type": "markdown",
   "metadata": {},
   "source": [
    "### Тест на part3"
   ]
  },
  {
   "cell_type": "code",
   "execution_count": 117,
   "metadata": {},
   "outputs": [
    {
     "data": {
      "text/html": [
       "<div>\n",
       "<style scoped>\n",
       "    .dataframe tbody tr th:only-of-type {\n",
       "        vertical-align: middle;\n",
       "    }\n",
       "\n",
       "    .dataframe tbody tr th {\n",
       "        vertical-align: top;\n",
       "    }\n",
       "\n",
       "    .dataframe thead th {\n",
       "        text-align: right;\n",
       "    }\n",
       "</style>\n",
       "<table border=\"1\" class=\"dataframe\">\n",
       "  <thead>\n",
       "    <tr style=\"text-align: right;\">\n",
       "      <th></th>\n",
       "      <th>department</th>\n",
       "      <th>quantity</th>\n",
       "      <th>category</th>\n",
       "      <th>package_type</th>\n",
       "      <th>not_found</th>\n",
       "      <th>store_id</th>\n",
       "      <th>stock</th>\n",
       "      <th>brand</th>\n",
       "      <th>collection_day</th>\n",
       "      <th>product_id</th>\n",
       "      <th>...</th>\n",
       "      <th>completed_at</th>\n",
       "      <th>order_identifier</th>\n",
       "      <th>starts_at_hour</th>\n",
       "      <th>starts_at_dayofweek</th>\n",
       "      <th>starts_at_quarter</th>\n",
       "      <th>starts_at_month</th>\n",
       "      <th>starts_at_year</th>\n",
       "      <th>starts_at_dayofyear</th>\n",
       "      <th>starts_at_dayofmonth</th>\n",
       "      <th>starts_at_weekofyear</th>\n",
       "    </tr>\n",
       "  </thead>\n",
       "  <tbody>\n",
       "    <tr>\n",
       "      <td>0</td>\n",
       "      <td>МОЛОЧНЫЕ</td>\n",
       "      <td>2</td>\n",
       "      <td>СЛИВКИ</td>\n",
       "      <td>ШТУКА</td>\n",
       "      <td>1</td>\n",
       "      <td>11</td>\n",
       "      <td>59.0</td>\n",
       "      <td>PARMALAT</td>\n",
       "      <td>2019-12-30 00:00:00</td>\n",
       "      <td>14535.0</td>\n",
       "      <td>...</td>\n",
       "      <td>2019-12-29 00:28:00</td>\n",
       "      <td>2765223</td>\n",
       "      <td>14</td>\n",
       "      <td>0</td>\n",
       "      <td>4</td>\n",
       "      <td>12</td>\n",
       "      <td>2019</td>\n",
       "      <td>364</td>\n",
       "      <td>30</td>\n",
       "      <td>1</td>\n",
       "    </tr>\n",
       "    <tr>\n",
       "      <td>1</td>\n",
       "      <td>ЗАМОРОЗКА</td>\n",
       "      <td>1</td>\n",
       "      <td>ЗАМОРОЖЕННЫЕ ФРУКТЫ</td>\n",
       "      <td>ШТУКА</td>\n",
       "      <td>0</td>\n",
       "      <td>11</td>\n",
       "      <td>16.0</td>\n",
       "      <td>METRO CHEF</td>\n",
       "      <td>2019-12-30 00:00:00</td>\n",
       "      <td>4276471.0</td>\n",
       "      <td>...</td>\n",
       "      <td>2019-12-29 00:28:00</td>\n",
       "      <td>2765223</td>\n",
       "      <td>14</td>\n",
       "      <td>0</td>\n",
       "      <td>4</td>\n",
       "      <td>12</td>\n",
       "      <td>2019</td>\n",
       "      <td>364</td>\n",
       "      <td>30</td>\n",
       "      <td>1</td>\n",
       "    </tr>\n",
       "    <tr>\n",
       "      <td>2</td>\n",
       "      <td>ЗАМОРОЗКА</td>\n",
       "      <td>1</td>\n",
       "      <td>ЗАМОРОЖЕННЫЕ ФРУКТЫ</td>\n",
       "      <td>ШТУКА</td>\n",
       "      <td>0</td>\n",
       "      <td>11</td>\n",
       "      <td>83.0</td>\n",
       "      <td>RAVIFRUIT</td>\n",
       "      <td>2019-12-30 00:00:00</td>\n",
       "      <td>5047609.0</td>\n",
       "      <td>...</td>\n",
       "      <td>2019-12-29 00:28:00</td>\n",
       "      <td>2765223</td>\n",
       "      <td>14</td>\n",
       "      <td>0</td>\n",
       "      <td>4</td>\n",
       "      <td>12</td>\n",
       "      <td>2019</td>\n",
       "      <td>364</td>\n",
       "      <td>30</td>\n",
       "      <td>1</td>\n",
       "    </tr>\n",
       "    <tr>\n",
       "      <td>3</td>\n",
       "      <td>ЗАМОРОЗКА</td>\n",
       "      <td>1</td>\n",
       "      <td>ЗАМОРОЖЕННЫЕ ФРУКТЫ</td>\n",
       "      <td>ШТУКА</td>\n",
       "      <td>0</td>\n",
       "      <td>11</td>\n",
       "      <td>26.0</td>\n",
       "      <td>RAVIFRUIT</td>\n",
       "      <td>2019-12-30 00:00:00</td>\n",
       "      <td>5047607.0</td>\n",
       "      <td>...</td>\n",
       "      <td>2019-12-29 00:28:00</td>\n",
       "      <td>2765223</td>\n",
       "      <td>14</td>\n",
       "      <td>0</td>\n",
       "      <td>4</td>\n",
       "      <td>12</td>\n",
       "      <td>2019</td>\n",
       "      <td>364</td>\n",
       "      <td>30</td>\n",
       "      <td>1</td>\n",
       "    </tr>\n",
       "    <tr>\n",
       "      <td>4</td>\n",
       "      <td>ЗАМОРОЗКА</td>\n",
       "      <td>1</td>\n",
       "      <td>ЗАМОРОЖЕННЫЕ ФРУКТЫ</td>\n",
       "      <td>ШТУКА</td>\n",
       "      <td>0</td>\n",
       "      <td>11</td>\n",
       "      <td>27.0</td>\n",
       "      <td>RAVIFRUIT</td>\n",
       "      <td>2019-12-30 00:00:00</td>\n",
       "      <td>5047612.0</td>\n",
       "      <td>...</td>\n",
       "      <td>2019-12-29 00:28:00</td>\n",
       "      <td>2765223</td>\n",
       "      <td>14</td>\n",
       "      <td>0</td>\n",
       "      <td>4</td>\n",
       "      <td>12</td>\n",
       "      <td>2019</td>\n",
       "      <td>364</td>\n",
       "      <td>30</td>\n",
       "      <td>1</td>\n",
       "    </tr>\n",
       "  </tbody>\n",
       "</table>\n",
       "<p>5 rows × 23 columns</p>\n",
       "</div>"
      ],
      "text/plain": [
       "  department  quantity             category package_type  not_found  store_id  \\\n",
       "0   МОЛОЧНЫЕ         2               СЛИВКИ        ШТУКА          1        11   \n",
       "1  ЗАМОРОЗКА         1  ЗАМОРОЖЕННЫЕ ФРУКТЫ        ШТУКА          0        11   \n",
       "2  ЗАМОРОЗКА         1  ЗАМОРОЖЕННЫЕ ФРУКТЫ        ШТУКА          0        11   \n",
       "3  ЗАМОРОЗКА         1  ЗАМОРОЖЕННЫЕ ФРУКТЫ        ШТУКА          0        11   \n",
       "4  ЗАМОРОЗКА         1  ЗАМОРОЖЕННЫЕ ФРУКТЫ        ШТУКА          0        11   \n",
       "\n",
       "   stock       brand       collection_day  product_id  ...  \\\n",
       "0   59.0    PARMALAT  2019-12-30 00:00:00     14535.0  ...   \n",
       "1   16.0  METRO CHEF  2019-12-30 00:00:00   4276471.0  ...   \n",
       "2   83.0   RAVIFRUIT  2019-12-30 00:00:00   5047609.0  ...   \n",
       "3   26.0   RAVIFRUIT  2019-12-30 00:00:00   5047607.0  ...   \n",
       "4   27.0   RAVIFRUIT  2019-12-30 00:00:00   5047612.0  ...   \n",
       "\n",
       "          completed_at  order_identifier  starts_at_hour starts_at_dayofweek  \\\n",
       "0  2019-12-29 00:28:00           2765223              14                   0   \n",
       "1  2019-12-29 00:28:00           2765223              14                   0   \n",
       "2  2019-12-29 00:28:00           2765223              14                   0   \n",
       "3  2019-12-29 00:28:00           2765223              14                   0   \n",
       "4  2019-12-29 00:28:00           2765223              14                   0   \n",
       "\n",
       "   starts_at_quarter  starts_at_month  starts_at_year  starts_at_dayofyear  \\\n",
       "0                  4               12            2019                  364   \n",
       "1                  4               12            2019                  364   \n",
       "2                  4               12            2019                  364   \n",
       "3                  4               12            2019                  364   \n",
       "4                  4               12            2019                  364   \n",
       "\n",
       "   starts_at_dayofmonth  starts_at_weekofyear  \n",
       "0                    30                     1  \n",
       "1                    30                     1  \n",
       "2                    30                     1  \n",
       "3                    30                     1  \n",
       "4                    30                     1  \n",
       "\n",
       "[5 rows x 23 columns]"
      ]
     },
     "execution_count": 117,
     "metadata": {},
     "output_type": "execute_result"
    }
   ],
   "source": [
    "df_part3 = pd.read_csv(r'd:\\Загрузки\\part3.csv')\n",
    "# df['brand'].fillna('nan', inplace=True)\n",
    "df_part3['regular_price'].fillna(0, inplace=True)\n",
    "df_part3['product_id'].fillna(-1, inplace=True)\n",
    "df_part3.promotion_price.fillna(0, inplace=True)\n",
    "df_part3['promotion_price']=(df_part3['promotion_price']>0).astype(int)\n",
    "df_part3 = df_part3.drop(columns=['Unnamed: 0','product_name','shopper_login'])#,'collection_day'])\n",
    "df_part3['starts_at'] = pd.to_datetime(df_part3['starts_at'])\n",
    "df_part3 = create_time_features(df_part3, time_column='starts_at')\n",
    "\n",
    "df_part3[\"category\"] = df_part3[\"category\"].apply(lambda x: x.lower())\n",
    "df_part3.head()"
   ]
  },
  {
   "cell_type": "code",
   "execution_count": null,
   "metadata": {},
   "outputs": [],
   "source": []
  },
  {
   "cell_type": "code",
   "execution_count": 118,
   "metadata": {},
   "outputs": [],
   "source": [
    "categories = ['department','category','package_type','brand']\n",
    "# df = preprocess_customer(df, categories)\n",
    "max_prev = max(good_types.values()) + 1\n",
    "for name in df_part3[\"category\"].unique():\n",
    "    if name not in good_types.keys():\n",
    "        good_types[name] = max_prev\n",
    "        max_prev += 1\n",
    "df_part3[\"category\"] = df_part3[\"category\"].apply(lambda x: good_types[x]) # имена в категории заменяю числом"
   ]
  },
  {
   "cell_type": "markdown",
   "metadata": {},
   "source": [
    "## Удаляю лишние столбцы"
   ]
  },
  {
   "cell_type": "code",
   "execution_count": 119,
   "metadata": {
    "scrolled": true
   },
   "outputs": [
    {
     "data": {
      "text/html": [
       "<div>\n",
       "<style scoped>\n",
       "    .dataframe tbody tr th:only-of-type {\n",
       "        vertical-align: middle;\n",
       "    }\n",
       "\n",
       "    .dataframe tbody tr th {\n",
       "        vertical-align: top;\n",
       "    }\n",
       "\n",
       "    .dataframe thead th {\n",
       "        text-align: right;\n",
       "    }\n",
       "</style>\n",
       "<table border=\"1\" class=\"dataframe\">\n",
       "  <thead>\n",
       "    <tr style=\"text-align: right;\">\n",
       "      <th></th>\n",
       "      <th>quantity</th>\n",
       "      <th>category</th>\n",
       "      <th>not_found</th>\n",
       "      <th>store_id</th>\n",
       "      <th>stock</th>\n",
       "      <th>product_id</th>\n",
       "      <th>city</th>\n",
       "      <th>promotion_price</th>\n",
       "      <th>regular_price</th>\n",
       "      <th>starts_at_hour</th>\n",
       "      <th>starts_at_dayofweek</th>\n",
       "      <th>starts_at_month</th>\n",
       "      <th>starts_at_weekofyear</th>\n",
       "    </tr>\n",
       "  </thead>\n",
       "  <tbody>\n",
       "    <tr>\n",
       "      <td>0</td>\n",
       "      <td>2</td>\n",
       "      <td>120</td>\n",
       "      <td>1</td>\n",
       "      <td>11</td>\n",
       "      <td>59.0</td>\n",
       "      <td>14535.0</td>\n",
       "      <td>1</td>\n",
       "      <td>1</td>\n",
       "      <td>79.469</td>\n",
       "      <td>14</td>\n",
       "      <td>0</td>\n",
       "      <td>12</td>\n",
       "      <td>1</td>\n",
       "    </tr>\n",
       "    <tr>\n",
       "      <td>1</td>\n",
       "      <td>1</td>\n",
       "      <td>57</td>\n",
       "      <td>0</td>\n",
       "      <td>11</td>\n",
       "      <td>16.0</td>\n",
       "      <td>4276471.0</td>\n",
       "      <td>1</td>\n",
       "      <td>0</td>\n",
       "      <td>369.890</td>\n",
       "      <td>14</td>\n",
       "      <td>0</td>\n",
       "      <td>12</td>\n",
       "      <td>1</td>\n",
       "    </tr>\n",
       "    <tr>\n",
       "      <td>2</td>\n",
       "      <td>1</td>\n",
       "      <td>57</td>\n",
       "      <td>0</td>\n",
       "      <td>11</td>\n",
       "      <td>83.0</td>\n",
       "      <td>5047609.0</td>\n",
       "      <td>1</td>\n",
       "      <td>0</td>\n",
       "      <td>662.390</td>\n",
       "      <td>14</td>\n",
       "      <td>0</td>\n",
       "      <td>12</td>\n",
       "      <td>1</td>\n",
       "    </tr>\n",
       "    <tr>\n",
       "      <td>3</td>\n",
       "      <td>1</td>\n",
       "      <td>57</td>\n",
       "      <td>0</td>\n",
       "      <td>11</td>\n",
       "      <td>26.0</td>\n",
       "      <td>5047607.0</td>\n",
       "      <td>1</td>\n",
       "      <td>0</td>\n",
       "      <td>527.390</td>\n",
       "      <td>14</td>\n",
       "      <td>0</td>\n",
       "      <td>12</td>\n",
       "      <td>1</td>\n",
       "    </tr>\n",
       "    <tr>\n",
       "      <td>4</td>\n",
       "      <td>1</td>\n",
       "      <td>57</td>\n",
       "      <td>0</td>\n",
       "      <td>11</td>\n",
       "      <td>27.0</td>\n",
       "      <td>5047612.0</td>\n",
       "      <td>1</td>\n",
       "      <td>0</td>\n",
       "      <td>487.637</td>\n",
       "      <td>14</td>\n",
       "      <td>0</td>\n",
       "      <td>12</td>\n",
       "      <td>1</td>\n",
       "    </tr>\n",
       "  </tbody>\n",
       "</table>\n",
       "</div>"
      ],
      "text/plain": [
       "   quantity  category  not_found  store_id  stock  product_id  city  \\\n",
       "0         2       120          1        11   59.0     14535.0     1   \n",
       "1         1        57          0        11   16.0   4276471.0     1   \n",
       "2         1        57          0        11   83.0   5047609.0     1   \n",
       "3         1        57          0        11   26.0   5047607.0     1   \n",
       "4         1        57          0        11   27.0   5047612.0     1   \n",
       "\n",
       "   promotion_price  regular_price  starts_at_hour  starts_at_dayofweek  \\\n",
       "0                1         79.469              14                    0   \n",
       "1                0        369.890              14                    0   \n",
       "2                0        662.390              14                    0   \n",
       "3                0        527.390              14                    0   \n",
       "4                0        487.637              14                    0   \n",
       "\n",
       "   starts_at_month  starts_at_weekofyear  \n",
       "0               12                     1  \n",
       "1               12                     1  \n",
       "2               12                     1  \n",
       "3               12                     1  \n",
       "4               12                     1  "
      ]
     },
     "execution_count": 119,
     "metadata": {},
     "output_type": "execute_result"
    }
   ],
   "source": [
    "df_part3 = df_part3.drop(columns=[\"order_identifier\", \"completed_at\", \"collection_day\", \"department\", \"package_type\", \"brand\", \"starts_at_dayofmonth\", \"starts_at_year\", \"starts_at_dayofyear\", \"starts_at_quarter\"])\n",
    "df_part3.head()"
   ]
  },
  {
   "cell_type": "markdown",
   "metadata": {},
   "source": [
    "### Метрики модели"
   ]
  },
  {
   "cell_type": "code",
   "execution_count": 123,
   "metadata": {},
   "outputs": [
    {
     "name": "stdout",
     "output_type": "stream",
     "text": [
      "Accuracy 0.8521598412454671\n",
      "Precision 0.26645146490135674\n",
      "Recall 0.1682392865272001\n",
      "f1 0.2062505549143212\n"
     ]
    }
   ],
   "source": [
    "df_part3_test = df_part3.dropna()\n",
    "y_pred = model.predict(df_part3_test.drop(columns=\"not_found\"))\n",
    "print('Accuracy', accuracy_score(df_part3_test[\"not_found\"], y_pred))\n",
    "print('Precision', precision_score(df_part3_test[\"not_found\"], y_pred))\n",
    "print('Recall', recall_score(df_part3_test[\"not_found\"], y_pred))\n",
    "print('f1', f1_score(df_part3_test[\"not_found\"], y_pred))\n",
    "\n"
   ]
  },
  {
   "cell_type": "code",
   "execution_count": 127,
   "metadata": {
    "scrolled": true
   },
   "outputs": [
    {
     "data": {
      "text/plain": [
       "0.5542724296347037"
      ]
     },
     "execution_count": 127,
     "metadata": {},
     "output_type": "execute_result"
    }
   ],
   "source": [
    "roc_auc_score(df_part3_test[\"not_found\"], y_pred)"
   ]
  },
  {
   "cell_type": "code",
   "execution_count": 126,
   "metadata": {},
   "outputs": [
    {
     "data": {
      "text/html": [
       "<div>\n",
       "<style scoped>\n",
       "    .dataframe tbody tr th:only-of-type {\n",
       "        vertical-align: middle;\n",
       "    }\n",
       "\n",
       "    .dataframe tbody tr th {\n",
       "        vertical-align: top;\n",
       "    }\n",
       "\n",
       "    .dataframe thead th {\n",
       "        text-align: right;\n",
       "    }\n",
       "</style>\n",
       "<table border=\"1\" class=\"dataframe\">\n",
       "  <thead>\n",
       "    <tr style=\"text-align: right;\">\n",
       "      <th></th>\n",
       "      <th>quantity</th>\n",
       "      <th>category</th>\n",
       "      <th>not_found</th>\n",
       "      <th>store_id</th>\n",
       "      <th>stock</th>\n",
       "      <th>product_id</th>\n",
       "      <th>city</th>\n",
       "      <th>promotion_price</th>\n",
       "      <th>regular_price</th>\n",
       "      <th>starts_at_hour</th>\n",
       "      <th>starts_at_dayofweek</th>\n",
       "      <th>starts_at_month</th>\n",
       "      <th>starts_at_weekofyear</th>\n",
       "    </tr>\n",
       "  </thead>\n",
       "  <tbody>\n",
       "    <tr>\n",
       "      <td>0</td>\n",
       "      <td>2</td>\n",
       "      <td>120</td>\n",
       "      <td>1</td>\n",
       "      <td>11</td>\n",
       "      <td>59.00</td>\n",
       "      <td>14535.0</td>\n",
       "      <td>1</td>\n",
       "      <td>1</td>\n",
       "      <td>79.469</td>\n",
       "      <td>14</td>\n",
       "      <td>0</td>\n",
       "      <td>12</td>\n",
       "      <td>1</td>\n",
       "    </tr>\n",
       "    <tr>\n",
       "      <td>1</td>\n",
       "      <td>1</td>\n",
       "      <td>57</td>\n",
       "      <td>0</td>\n",
       "      <td>11</td>\n",
       "      <td>16.00</td>\n",
       "      <td>4276471.0</td>\n",
       "      <td>1</td>\n",
       "      <td>0</td>\n",
       "      <td>369.890</td>\n",
       "      <td>14</td>\n",
       "      <td>0</td>\n",
       "      <td>12</td>\n",
       "      <td>1</td>\n",
       "    </tr>\n",
       "    <tr>\n",
       "      <td>2</td>\n",
       "      <td>1</td>\n",
       "      <td>57</td>\n",
       "      <td>0</td>\n",
       "      <td>11</td>\n",
       "      <td>83.00</td>\n",
       "      <td>5047609.0</td>\n",
       "      <td>1</td>\n",
       "      <td>0</td>\n",
       "      <td>662.390</td>\n",
       "      <td>14</td>\n",
       "      <td>0</td>\n",
       "      <td>12</td>\n",
       "      <td>1</td>\n",
       "    </tr>\n",
       "    <tr>\n",
       "      <td>3</td>\n",
       "      <td>1</td>\n",
       "      <td>57</td>\n",
       "      <td>0</td>\n",
       "      <td>11</td>\n",
       "      <td>26.00</td>\n",
       "      <td>5047607.0</td>\n",
       "      <td>1</td>\n",
       "      <td>0</td>\n",
       "      <td>527.390</td>\n",
       "      <td>14</td>\n",
       "      <td>0</td>\n",
       "      <td>12</td>\n",
       "      <td>1</td>\n",
       "    </tr>\n",
       "    <tr>\n",
       "      <td>4</td>\n",
       "      <td>1</td>\n",
       "      <td>57</td>\n",
       "      <td>0</td>\n",
       "      <td>11</td>\n",
       "      <td>27.00</td>\n",
       "      <td>5047612.0</td>\n",
       "      <td>1</td>\n",
       "      <td>0</td>\n",
       "      <td>487.637</td>\n",
       "      <td>14</td>\n",
       "      <td>0</td>\n",
       "      <td>12</td>\n",
       "      <td>1</td>\n",
       "    </tr>\n",
       "    <tr>\n",
       "      <td>...</td>\n",
       "      <td>...</td>\n",
       "      <td>...</td>\n",
       "      <td>...</td>\n",
       "      <td>...</td>\n",
       "      <td>...</td>\n",
       "      <td>...</td>\n",
       "      <td>...</td>\n",
       "      <td>...</td>\n",
       "      <td>...</td>\n",
       "      <td>...</td>\n",
       "      <td>...</td>\n",
       "      <td>...</td>\n",
       "      <td>...</td>\n",
       "    </tr>\n",
       "    <tr>\n",
       "      <td>852464</td>\n",
       "      <td>1</td>\n",
       "      <td>128</td>\n",
       "      <td>1</td>\n",
       "      <td>111</td>\n",
       "      <td>60.35</td>\n",
       "      <td>5481861.0</td>\n",
       "      <td>16</td>\n",
       "      <td>0</td>\n",
       "      <td>157.778</td>\n",
       "      <td>10</td>\n",
       "      <td>1</td>\n",
       "      <td>1</td>\n",
       "      <td>4</td>\n",
       "    </tr>\n",
       "    <tr>\n",
       "      <td>852465</td>\n",
       "      <td>1</td>\n",
       "      <td>41</td>\n",
       "      <td>0</td>\n",
       "      <td>111</td>\n",
       "      <td>107.00</td>\n",
       "      <td>12857.0</td>\n",
       "      <td>16</td>\n",
       "      <td>0</td>\n",
       "      <td>102.959</td>\n",
       "      <td>10</td>\n",
       "      <td>1</td>\n",
       "      <td>1</td>\n",
       "      <td>4</td>\n",
       "    </tr>\n",
       "    <tr>\n",
       "      <td>852466</td>\n",
       "      <td>2</td>\n",
       "      <td>92</td>\n",
       "      <td>0</td>\n",
       "      <td>111</td>\n",
       "      <td>1112.00</td>\n",
       "      <td>49915.0</td>\n",
       "      <td>16</td>\n",
       "      <td>0</td>\n",
       "      <td>46.412</td>\n",
       "      <td>10</td>\n",
       "      <td>1</td>\n",
       "      <td>1</td>\n",
       "      <td>4</td>\n",
       "    </tr>\n",
       "    <tr>\n",
       "      <td>852467</td>\n",
       "      <td>1</td>\n",
       "      <td>248</td>\n",
       "      <td>0</td>\n",
       "      <td>121</td>\n",
       "      <td>8.00</td>\n",
       "      <td>5215877.0</td>\n",
       "      <td>14</td>\n",
       "      <td>1</td>\n",
       "      <td>1277.387</td>\n",
       "      <td>12</td>\n",
       "      <td>1</td>\n",
       "      <td>1</td>\n",
       "      <td>4</td>\n",
       "    </tr>\n",
       "    <tr>\n",
       "      <td>852468</td>\n",
       "      <td>1</td>\n",
       "      <td>281</td>\n",
       "      <td>0</td>\n",
       "      <td>121</td>\n",
       "      <td>21.00</td>\n",
       "      <td>6003849.0</td>\n",
       "      <td>14</td>\n",
       "      <td>1</td>\n",
       "      <td>1952.387</td>\n",
       "      <td>12</td>\n",
       "      <td>1</td>\n",
       "      <td>1</td>\n",
       "      <td>4</td>\n",
       "    </tr>\n",
       "  </tbody>\n",
       "</table>\n",
       "<p>846590 rows × 13 columns</p>\n",
       "</div>"
      ],
      "text/plain": [
       "        quantity  category  not_found  store_id    stock  product_id  city  \\\n",
       "0              2       120          1        11    59.00     14535.0     1   \n",
       "1              1        57          0        11    16.00   4276471.0     1   \n",
       "2              1        57          0        11    83.00   5047609.0     1   \n",
       "3              1        57          0        11    26.00   5047607.0     1   \n",
       "4              1        57          0        11    27.00   5047612.0     1   \n",
       "...          ...       ...        ...       ...      ...         ...   ...   \n",
       "852464         1       128          1       111    60.35   5481861.0    16   \n",
       "852465         1        41          0       111   107.00     12857.0    16   \n",
       "852466         2        92          0       111  1112.00     49915.0    16   \n",
       "852467         1       248          0       121     8.00   5215877.0    14   \n",
       "852468         1       281          0       121    21.00   6003849.0    14   \n",
       "\n",
       "        promotion_price  regular_price  starts_at_hour  starts_at_dayofweek  \\\n",
       "0                     1         79.469              14                    0   \n",
       "1                     0        369.890              14                    0   \n",
       "2                     0        662.390              14                    0   \n",
       "3                     0        527.390              14                    0   \n",
       "4                     0        487.637              14                    0   \n",
       "...                 ...            ...             ...                  ...   \n",
       "852464                0        157.778              10                    1   \n",
       "852465                0        102.959              10                    1   \n",
       "852466                0         46.412              10                    1   \n",
       "852467                1       1277.387              12                    1   \n",
       "852468                1       1952.387              12                    1   \n",
       "\n",
       "        starts_at_month  starts_at_weekofyear  \n",
       "0                    12                     1  \n",
       "1                    12                     1  \n",
       "2                    12                     1  \n",
       "3                    12                     1  \n",
       "4                    12                     1  \n",
       "...                 ...                   ...  \n",
       "852464                1                     4  \n",
       "852465                1                     4  \n",
       "852466                1                     4  \n",
       "852467                1                     4  \n",
       "852468                1                     4  \n",
       "\n",
       "[846590 rows x 13 columns]"
      ]
     },
     "execution_count": 126,
     "metadata": {},
     "output_type": "execute_result"
    }
   ],
   "source": [
    "df_part3_test"
   ]
  }
 ],
 "metadata": {
  "kernelspec": {
   "display_name": "Python 3",
   "language": "python",
   "name": "python3"
  },
  "language_info": {
   "codemirror_mode": {
    "name": "ipython",
    "version": 3
   },
   "file_extension": ".py",
   "mimetype": "text/x-python",
   "name": "python",
   "nbconvert_exporter": "python",
   "pygments_lexer": "ipython3",
   "version": "3.7.6"
  }
 },
 "nbformat": 4,
 "nbformat_minor": 2
}

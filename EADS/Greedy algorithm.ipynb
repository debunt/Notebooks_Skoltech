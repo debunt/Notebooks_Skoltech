{
 "cells": [
  {
   "cell_type": "markdown",
   "metadata": {},
   "source": [
    "Perhaps the best known algorithm in combinatorial optimization is **the greedy algorithm**. A\n",
    "natural question is for which optimization problems does the greedy algorithm produce an optimal\n",
    "solution? In a sense this question is answered by a classical theorem in matroid theory due to\n",
    "**Rado and Edmonds**. In the matroid case, the greedy algorithm solves the optimization problem\n",
    "for every linear objective function. There are, however, optimization problems for which the\n",
    "greedy algorithm correctly solves the optimization problem for many—but not all—linear weight\n",
    "functions. "
   ]
  },
  {
   "cell_type": "code",
   "execution_count": null,
   "metadata": {},
   "outputs": [],
   "source": []
  }
 ],
 "metadata": {
  "kernelspec": {
   "display_name": "Python 3",
   "language": "python",
   "name": "python3"
  },
  "language_info": {
   "codemirror_mode": {
    "name": "ipython",
    "version": 3
   },
   "file_extension": ".py",
   "mimetype": "text/x-python",
   "name": "python",
   "nbconvert_exporter": "python",
   "pygments_lexer": "ipython3",
   "version": "3.6.8"
  }
 },
 "nbformat": 4,
 "nbformat_minor": 2
}

{
 "cells": [
  {
   "cell_type": "markdown",
   "metadata": {},
   "source": [
    "### пример решения ээтой задачи greedy алгоритмом\n",
    "Method 1 (Greedy Solution)\n",
    "The greedy solution is to place as many words as possible in the first line. Then do the same thing for the second line and so on until all words are placed. This solution gives optimal solution for many cases, but doesn’t give optimal solution in all cases. For example, consider the following string “aaa bb cc ddddd” and line width as 6. Greedy method will produce following output./\n",
    "aaa bb \\\n",
    "cc \\\n",
    "ddddd\\\n",
    "\n",
    "Extra spaces in the above 3 lines are 0, 4 and 1 respectively. So total cost is 0 + 64 + 1 = 65.\\\n",
    "\n",
    "But the above solution is not the best solution. Following arrangement has more balanced spaces. Therefore less value of total cost function.\\\n",
    "aaa\\\n",
    "bb cc\\\n",
    "ddddd\\\n",
    "Extra spaces in the above 3 lines are 3, 1 and 1 respectively. So total cost is 27 + 1 + 1 = 29.\n",
    "\n",
    "Despite being sub-optimal in some cases, the greedy approach is used by many word processors like MS Word and OpenOffice.org Writer."
   ]
  },
  {
   "cell_type": "code",
   "execution_count": 22,
   "metadata": {},
   "outputs": [
    {
     "name": "stdout",
     "output_type": "stream",
     "text": [
      "[0, 1, 1, 2, 3, 4, 5]\n",
      "[0, 16, 1, 17, 1, 17, 1]\n"
     ]
    }
   ],
   "source": [
    "# A Dynamic programming solution  \n",
    "# for Word Wrap Problem  \n",
    "  \n",
    "# A utility function to print  \n",
    "# the solution  \n",
    "# l[] represents lengths of different  \n",
    "# words in input sequence. For example,  \n",
    "# l[] = {3, 2, 2, 5} is for a sentence \n",
    "# like \"aaa bb cc ddddd\". n is size of  \n",
    "# l[] and M is line width (maximum no.  \n",
    "# of characters that can fit in a line)  \n",
    "INF = 2147483647\n",
    "def printSolution(p, n): \n",
    "    k = 0\n",
    "    if p[n] == 1: \n",
    "        k = 1\n",
    "    else: \n",
    "        k = printSolution(p, p[n] - 1) + 1\n",
    "    print('Line number ', k, ': From word no. ', \n",
    "                                 p[n], 'to ', n) \n",
    "    return k \n",
    "  \n",
    "def solveWordWrap (l, n, M): \n",
    "      \n",
    "    # For simplicity, 1 extra space is used in all below arrays  \n",
    "  \n",
    "    # extras[i][j] will have number of extra spaces if words from i  \n",
    "    # to j are put in a single line \n",
    "    extras = [[0 for i in range(n + 1)] for i in range(n + 1)] \n",
    "                   \n",
    "    # line_cost[i][j] will have cost of a line which has words from i to j \n",
    "    line_cost = [[0 for i in range(n + 1)] for i in range(n + 1)] \n",
    "               \n",
    "    # c[i] will have total cost of  \n",
    "    # optimal arrangement of words  \n",
    "    # from 1 to i \n",
    "    total_cost = [0 for i in range(n + 1)] \n",
    "      \n",
    "    # p[] is used to print the solution. \n",
    "    p = [0 for i in range(n + 1)] \n",
    "      \n",
    "    # calculate extra spaces in a single \n",
    "    # line. The value extra[i][j] indicates \n",
    "    # extra spaces if words from word number \n",
    "    # i to j are placed in a single line  \n",
    "    for i in range(n + 1): \n",
    "        extras[i][i] = M - l[i - 1] \n",
    "        for j in range(i + 1, n + 1): \n",
    "            extras[i][j] = (extras[i][j - 1] - l[j - 1] - 1) \n",
    "                                      \n",
    "    # Calculate line cost corresponding  \n",
    "    # to the above calculated extra  \n",
    "    # spaces. The value lc[i][j] indicates  \n",
    "    # cost of putting words from word number \n",
    "    # i to j in a single line  \n",
    "    for i in range(n + 1): \n",
    "        for j in range(i, n + 1): \n",
    "            if extras[i][j] < 0: \n",
    "                line_cost[i][j] = INF; \n",
    "            elif j == n and extras[i][j] >= 0: \n",
    "                line_cost[i][j] = 0\n",
    "            else: \n",
    "                line_cost[i][j] = (extras[i][j] * extras[i][j]) \n",
    "  \n",
    "    # Calculate minimum cost and find  \n",
    "    # minimum cost arrangement. The value \n",
    "    # c[j] indicates optimized cost to  \n",
    "    # arrange words from word number 1 to j. \n",
    "    total_cost[0] = 0\n",
    "    for j in range(1, n + 1): \n",
    "        total_cost[j] = INF \n",
    "        for i in range(1, j + 1): \n",
    "            if (total_cost[i - 1] != INF and \n",
    "                line_cost[i][j] != INF and \n",
    "                ((total_cost[i - 1] + line_cost[i][j]) < total_cost[j])): \n",
    "                total_cost[j] = total_cost[i-1] + line_cost[i][j] \n",
    "                p[j] = i \n",
    "    print(p)\n",
    "    print(total_cost)\n",
    "      \n",
    "# Driver Code \n",
    "l = [2, 2, 2, 3, 2, 2] \n",
    "n = len(l) \n",
    "M = 6\n",
    "solveWordWrap(l, n, M) \n",
    "  \n",
    "# This code is contributed by sahil shelangia"
   ]
  },
  {
   "cell_type": "code",
   "execution_count": 23,
   "metadata": {
    "scrolled": true
   },
   "outputs": [
    {
     "name": "stdout",
     "output_type": "stream",
     "text": [
      "[0, 1, 1, 1, 3, 4, 4, 4, 8]\n",
      "[0, 64, 36, 4, 52, 29, 13, 4, 4]\n"
     ]
    }
   ],
   "source": [
    "N = 8\n",
    "L = 10\n",
    "words = [0] * N\n",
    "text = \"Greedy algorithm is not optimal\"\n",
    "text = \"am I you to be I or to\"\n",
    "for i, word in enumerate(text.split()):\n",
    "    words[i] = len(word) \n",
    "solveWordWrap(words, N, L) "
   ]
  },
  {
   "cell_type": "code",
   "execution_count": 25,
   "metadata": {},
   "outputs": [
    {
     "name": "stdout",
     "output_type": "stream",
     "text": [
      "34 2\n"
     ]
    }
   ],
   "source": [
    "def DAC_shortest(words, N, L):\n",
    "    \n",
    "    def back_tracing(spaces, N):\n",
    "        n_lines = 0\n",
    "        j = N\n",
    "        while j > 0:\n",
    "            i = spaces[j]\n",
    "            n_lines += 1\n",
    "            j = i\n",
    "        return n_lines\n",
    "    \n",
    "    def relax(extras, cost, j):\n",
    "        if cost < costs[j]:\n",
    "            costs[j] = cost\n",
    "            extras[j] = i\n",
    "        return extras\n",
    "                \n",
    "    cum_len = [0]  #cumulative length of words\n",
    "    for word in words:\n",
    "        cum_len.append(cum_len[-1] + len(word))\n",
    "#     print(\"cumulative length\", cum_len)\n",
    "    \n",
    "    # allocate memory before\n",
    "    costs = [0] + [float(\"Inf\")] * N\n",
    "    extras = [0] * (N + 1) #extra spaces\n",
    "    for i in range(N):\n",
    "        j = i + 1\n",
    "        while j <= N:\n",
    "            spaces_jline = j - i - 1\n",
    "            word = cum_len[j] - cum_len[i] + spaces_jline\n",
    "            if word > L:\n",
    "                break # больше слов не помещается на j line\n",
    "            cost = costs[i] + (L - word) ** 2\n",
    "            extras = relax(extras, cost, j)\n",
    "            j += 1  \n",
    "    print(costs[-1], back_tracing(extras, N))\n",
    "\n",
    "line1 = input().split()\n",
    "N, L = int(line1[0]), int(line1[1])\n",
    "words = input().split()\n",
    "DAC_shortest(words, N, L)"
   ]
  },
  {
   "cell_type": "code",
   "execution_count": 42,
   "metadata": {},
   "outputs": [
    {
     "data": {
      "text/plain": [
       "[0, 111, 111, 111, 111, 111, 111, 111, 111, 111, 111]"
      ]
     },
     "execution_count": 42,
     "metadata": {},
     "output_type": "execute_result"
    }
   ],
   "source": [
    "N = 8\n",
    "L = 10\n",
    "text = \"Greedy algorithm is not optimal\"\n",
    "text = \"am I you to be I or to\""
   ]
  }
 ],
 "metadata": {
  "kernelspec": {
   "display_name": "Python 3",
   "language": "python",
   "name": "python3"
  },
  "language_info": {
   "codemirror_mode": {
    "name": "ipython",
    "version": 3
   },
   "file_extension": ".py",
   "mimetype": "text/x-python",
   "name": "python",
   "nbconvert_exporter": "python",
   "pygments_lexer": "ipython3",
   "version": "3.6.8"
  }
 },
 "nbformat": 4,
 "nbformat_minor": 2
}

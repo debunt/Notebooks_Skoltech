{
 "cells": [
  {
   "cell_type": "code",
   "execution_count": 1,
   "metadata": {},
   "outputs": [],
   "source": [
    "loot = [  # w/c\n",
    "    [1, 14],\n",
    "    [2, 1],\n",
    "    [14, 3],\n",
    "    [1, 1],\n",
    "    [8, 12],\n",
    "    [1.5, 1.99],\n",
    "    [3, 1],\n",
    "    [4, 1],\n",
    "    [5, 0.5], \n",
    "    [60, 60],\n",
    "    [1000, 5000],\n",
    "    [1000, 5000]\n",
    "]\n",
    "loot = sorted(loot, key=lambda i: i[0] / i[1])  # relative profit\n",
    "limit = 18"
   ]
  },
  {
   "cell_type": "code",
   "execution_count": 11,
   "metadata": {},
   "outputs": [
    {
     "name": "stdout",
     "output_type": "stream",
     "text": [
      "[[1, 14], [8, 12], [1.5, 1.99], [1, 1], [2, 1], [4, 1]] by analyzing nodes: 557\n"
     ]
    }
   ],
   "source": [
    "def visit(b):\n",
    "    return sum(i[0] for i in b), sum(i[1] for i in b)\n",
    "\n",
    "\n",
    "nodes = 0\n",
    "best = []\n",
    "def depth_search(loot, bag, depth):\n",
    "    global nodes, best\n",
    "    nodes += 1\n",
    "    if depth == len(loot):\n",
    "        w, c = visit(bag)\n",
    "        wb, cb = visit(best)\n",
    "        if c > cb and w <= limit:\n",
    "            best = list(bag)\n",
    "    else:   \n",
    "        depth_search(loot, bag, depth + 1)\n",
    "        bag = bag + [loot[depth]]\n",
    "        w, c = visit(bag)\n",
    "        \n",
    "        # optimization 1\n",
    "        if w > limit: return\n",
    "        \n",
    "        # optimization 2: branch-and-bound\n",
    "        if c + (limit - w) / bag[-1][0] * bag[-1][1] <= visit(best)[1]: return\n",
    "        \n",
    "        depth_search(loot, bag, depth + 1)\n",
    "\n",
    "best = []\n",
    "bag = []\n",
    "depth_search(loot, bag, 0)\n",
    "print(best, \"by analyzing nodes:\", nodes)"
   ]
  }
 ],
 "metadata": {
  "kernelspec": {
   "display_name": "Python 3",
   "language": "python",
   "name": "python3"
  },
  "language_info": {
   "codemirror_mode": {
    "name": "ipython",
    "version": 3
   },
   "file_extension": ".py",
   "mimetype": "text/x-python",
   "name": "python",
   "nbconvert_exporter": "python",
   "pygments_lexer": "ipython3",
   "version": "3.6.8"
  }
 },
 "nbformat": 4,
 "nbformat_minor": 2
}

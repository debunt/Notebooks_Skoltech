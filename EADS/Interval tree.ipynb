{
 "cells": [
  {
   "cell_type": "markdown",
   "metadata": {},
   "source": [
    "### Cormen, page 348\n",
    "### Morgan, page 434"
   ]
  },
  {
   "cell_type": "markdown",
   "metadata": {},
   "source": [
    "Легенда\n",
    "- INTERVAL-INSERT.T; x/ adds the element x, whose int attribute is assumed to contain an interval, to the interval tree T .\n",
    "- INTERVAL-DELETE.T; x/ removes the element x from the interval tree T .\n",
    "- INTERVAL-SEARCH.T; i / returns a pointer to an element x in the interval tree T such that x:int overlaps interval i , or a pointer to the sentinel T:nil if no such element is in the set."
   ]
  },
  {
   "cell_type": "markdown",
   "metadata": {},
   "source": [
    "https://www.geeksforgeeks.org/interval-tree/\n"
   ]
  },
  {
   "cell_type": "code",
   "execution_count": null,
   "metadata": {},
   "outputs": [],
   "source": [
    "class Node:\n",
    "    def __init__(self, left, right):\n",
    "        self.left = left\n",
    "        self.right = right\n",
    "        self.low = None\n",
    "        self.high = None\n",
    "        self.max = None\n",
    "\n",
    "class ITree:\n",
    "    def __init__(self):\n",
    "        self.root = None\n",
    "        \n",
    "    def add_interval(self):\n",
    "        "
   ]
  },
  {
   "cell_type": "code",
   "execution_count": 11,
   "metadata": {},
   "outputs": [
    {
     "name": "stdout",
     "output_type": "stream",
     "text": [
      "8 4\n",
      "10 2\n",
      "4 3\n",
      "11 10\n"
     ]
    },
    {
     "data": {
      "text/plain": [
       "[0, 0, 1, 1, 1, 0, 0, 0, 1, 0, 1, 1]"
      ]
     },
     "execution_count": 11,
     "metadata": {},
     "output_type": "execute_result"
    }
   ],
   "source": [
    "def h1(x):\n",
    "    return x % 13\n",
    "def h2(x):\n",
    "    return ((x-h1(x))//13) % 13\n",
    "\n",
    "bitarray = [0,0,0,0,0,0,0,0,0,0,0,0,0,0,0,0,0,0,0,0,0]\n",
    "\n",
    "for x in [60,36,43,141]:\n",
    "    print(h1(x), h2(x))\n",
    "    bitarray[h1(x)] = 1\n",
    "    bitarray[h2(x)] = 1\n",
    "bitarray[0:12]"
   ]
  },
  {
   "cell_type": "code",
   "execution_count": 14,
   "metadata": {},
   "outputs": [
    {
     "name": "stdout",
     "output_type": "stream",
     "text": [
      "0 0\n"
     ]
    }
   ],
   "source": [
    "print(bitarray[h1(26)], bitarray[h1(26)])\n",
    "    "
   ]
  }
 ],
 "metadata": {
  "kernelspec": {
   "display_name": "Python 3",
   "language": "python",
   "name": "python3"
  },
  "language_info": {
   "codemirror_mode": {
    "name": "ipython",
    "version": 3
   },
   "file_extension": ".py",
   "mimetype": "text/x-python",
   "name": "python",
   "nbconvert_exporter": "python",
   "pygments_lexer": "ipython3",
   "version": "3.6.8"
  }
 },
 "nbformat": 4,
 "nbformat_minor": 2
}

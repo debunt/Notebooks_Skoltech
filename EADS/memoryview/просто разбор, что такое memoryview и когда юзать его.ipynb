{
 "cells": [
  {
   "cell_type": "markdown",
   "id": "9669e211",
   "metadata": {},
   "source": [
    "### Memoryview со строкой байтовой"
   ]
  },
  {
   "cell_type": "code",
   "execution_count": 2,
   "id": "1c9317ab",
   "metadata": {},
   "outputs": [
    {
     "name": "stdout",
     "output_type": "stream",
     "text": [
      "     bytes 100000 0.135\n",
      "     bytes 200000 0.541\n",
      "     bytes 300000 1.321\n",
      "     bytes 400000 2.500\n",
      "memoryview 100000 0.011\n",
      "memoryview 200000 0.021\n",
      "memoryview 300000 0.033\n",
      "memoryview 400000 0.045\n"
     ]
    }
   ],
   "source": [
    "import time\n",
    "for n in (100000, 200000, 300000, 400000):\n",
    "    data = b'x'*n\n",
    "    start = time.time()\n",
    "    b = data\n",
    "    while b:\n",
    "        b = b[1:] # просто слайсим стринг \n",
    "    print(f'     bytes {n} {time.time() - start:0.3f}')\n",
    "\n",
    "for n in (100000, 200000, 300000, 400000):\n",
    "    data = b'x'*n\n",
    "    start = time.time()\n",
    "    b = memoryview(data)\n",
    "    while b:\n",
    "        b = b[1:] # просто слайсим стринг без копирования\n",
    "    print(f'memoryview {n} {time.time() - start:0.3f}')"
   ]
  },
  {
   "cell_type": "markdown",
   "id": "796a56ac",
   "metadata": {},
   "source": [
    "### Memoryview с numpy array - разницы нет"
   ]
  },
  {
   "cell_type": "code",
   "execution_count": 8,
   "id": "756d33e5",
   "metadata": {},
   "outputs": [
    {
     "name": "stdout",
     "output_type": "stream",
     "text": [
      "     bytes 1000 0.001\n",
      "     bytes 2000 0.000\n",
      "     bytes 3000 0.001\n",
      "     bytes 4000 0.001\n",
      "memoryview 1000 0.000\n",
      "memoryview 2000 0.000\n",
      "memoryview 3000 0.001\n",
      "memoryview 4000 0.001\n"
     ]
    }
   ],
   "source": [
    "import time\n",
    "import numpy as np\n",
    "for n in (1000, 2000, 3000, 4000):\n",
    "    data = np.ones(n)\n",
    "    start = time.time()\n",
    "    b = data\n",
    "    while len(b) > 2:\n",
    "        b = b[1:] # просто слайсим стринг \n",
    "    print(f'     bytes {n} {time.time() - start:0.3f}')\n",
    "\n",
    "for n in (1000, 2000, 3000, 4000):\n",
    "    data = np.ones(n)\n",
    "    start = time.time()\n",
    "    b = memoryview(data)\n",
    "    while len(b) > 2:\n",
    "        b = b[1:] # просто слайсим стринг без копирования\n",
    "    print(f'memoryview {n} {time.time() - start:0.3f}')"
   ]
  },
  {
   "cell_type": "code",
   "execution_count": 6,
   "id": "b4198049",
   "metadata": {},
   "outputs": [
    {
     "data": {
      "text/plain": [
       "5"
      ]
     },
     "execution_count": 6,
     "metadata": {},
     "output_type": "execute_result"
    }
   ],
   "source": [
    "(1) * 5"
   ]
  }
 ],
 "metadata": {
  "kernelspec": {
   "display_name": "Python 3",
   "language": "python",
   "name": "python3"
  },
  "language_info": {
   "codemirror_mode": {
    "name": "ipython",
    "version": 3
   },
   "file_extension": ".py",
   "mimetype": "text/x-python",
   "name": "python",
   "nbconvert_exporter": "python",
   "pygments_lexer": "ipython3",
   "version": "3.8.6"
  }
 },
 "nbformat": 4,
 "nbformat_minor": 5
}

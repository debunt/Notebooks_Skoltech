{
 "cells": [
  {
   "cell_type": "code",
   "execution_count": 1,
   "metadata": {},
   "outputs": [],
   "source": [
    "def read_graph_1(file='input.txt'):\n",
    "    with open(file, 'r') as f:\n",
    "        num_vertices = int(f.readline())\n",
    "        num_edges = int(f.readline())\n",
    "        source = int(f.readline())\n",
    "        destination = int(f.readline())\n",
    "\n",
    "        edges = []\n",
    "        for _ in range(num_edges):\n",
    "            edge = f.readline().split(' ')\n",
    "            src, dst = map(int, edge)\n",
    "            edges.append([src, dst])\n",
    "\n",
    "    return num_vertices, num_edges, source, destination, edges\n",
    "\n",
    "def read_graph_2(file='input.txt'):\n",
    "    with open(file, 'r') as f:\n",
    "        num_vertices = int(f.readline())\n",
    "        num_edges = int(f.readline())\n",
    "        source = int(f.readline())\n",
    "        destination = int(f.readline())\n",
    "\n",
    "        edges = [None for _ in range(num_edges)]\n",
    "        for i in range(num_edges):\n",
    "            edge = f.readline().split(' ')\n",
    "            src, dst = map(int, edge)\n",
    "            edges[i] = [src, dst]\n",
    "\n",
    "    return num_vertices, num_edges, source, destination, edges"
   ]
  },
  {
   "cell_type": "code",
   "execution_count": 2,
   "metadata": {},
   "outputs": [],
   "source": [
    "import numpy as np"
   ]
  },
  {
   "cell_type": "code",
   "execution_count": 17,
   "metadata": {},
   "outputs": [],
   "source": [
    "num_vertices=10\n",
    "num_edges=10\n",
    "source=0\n",
    "destination=50\n",
    "edges = np.random.randint(low=0, high=num_vertices, size=(num_edges, 2))\n",
    "\n",
    "with open('input.txt', 'w') as f:\n",
    "    f.write('{}\\n'.format(num_vertices))\n",
    "    f.write('{}\\n'.format(num_edges))\n",
    "    f.write('{}\\n'.format(source))\n",
    "    f.write('{}\\n'.format(destination))\n",
    "    for i in range(num_edges):\n",
    "        if i == num_edges-1:\n",
    "            f.write('{} {}'.format(edges[i, 0], edges[i, 1]))\n",
    "        else:\n",
    "            f.write('{} {}\\n'.format(edges[i, 0], edges[i, 1]))"
   ]
  },
  {
   "cell_type": "code",
   "execution_count": 18,
   "metadata": {},
   "outputs": [
    {
     "name": "stdout",
     "output_type": "stream",
     "text": [
      "CPU times: user 1.45 s, sys: 519 ms, total: 1.97 s\n",
      "Wall time: 1.97 s\n"
     ]
    }
   ],
   "source": [
    "%%time\n",
    "ret_val = read_graph_1()"
   ]
  },
  {
   "cell_type": "code",
   "execution_count": 19,
   "metadata": {},
   "outputs": [
    {
     "name": "stdout",
     "output_type": "stream",
     "text": [
      "CPU times: user 607 µs, sys: 377 µs, total: 984 µs\n",
      "Wall time: 678 µs\n"
     ]
    }
   ],
   "source": [
    "%%time\n",
    "ret_val = read_graph_2()"
   ]
  },
  {
   "cell_type": "code",
   "execution_count": null,
   "metadata": {},
   "outputs": [],
   "source": []
  }
 ],
 "metadata": {
  "kernelspec": {
   "display_name": "Python 3",
   "language": "python",
   "name": "python3"
  },
  "language_info": {
   "codemirror_mode": {
    "name": "ipython",
    "version": 3
   },
   "file_extension": ".py",
   "mimetype": "text/x-python",
   "name": "python",
   "nbconvert_exporter": "python",
   "pygments_lexer": "ipython3",
   "version": "3.5.5"
  }
 },
 "nbformat": 4,
 "nbformat_minor": 1
}

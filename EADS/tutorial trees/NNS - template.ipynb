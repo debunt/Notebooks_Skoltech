{
 "cells": [
  {
   "cell_type": "markdown",
   "metadata": {},
   "source": [
    "# Tree indices #\n",
    "Today's tutorial is devoted to ANNS with trees. At the lecture we discussed that trees can be very useful, if we have vector representation of an object. Today you write your our own index (simple kd-tree) and compare it with [Annoy](https://github.com/spotify/annoy) library.\n",
    "\n",
    "Tutorial consists of the following parts:\n",
    "1. Writing kd-tree\n",
    "  1. building kd-tree index\n",
    "  2. implementing kd-tree search\n",
    "  3. implementing KNN search\n",
    "  4. implementing kd-tree insertion\n",
    "2. Building Annoy index (`pip install --user annoy`)\n",
    "3. Practicing on real data (download a dataset from [here](https://drive.google.com/drive/folders/1nhiJC6g5R5uPDYwa-6sz9_bJ3sYGm8mM?usp=sharing))\n",
    "  1. KNN search on real data\n",
    "  2. implementing kd-tree range search\n",
    "4. [Optional] Set of open questions"
   ]
  },
  {
   "cell_type": "code",
   "execution_count": 2,
   "metadata": {},
   "outputs": [
    {
     "name": "stdout",
     "output_type": "stream",
     "text": [
      "Collecting tqdm\n",
      "  Downloading https://files.pythonhosted.org/packages/a5/13/cd55c23e3e158ed5b87cae415ee3844fc54cb43803fa3a0a064d23ecb883/tqdm-4.40.0-py2.py3-none-any.whl (54kB)\n",
      "Installing collected packages: tqdm\n",
      "Successfully installed tqdm-4.40.0\n"
     ]
    },
    {
     "name": "stderr",
     "output_type": "stream",
     "text": [
      "You are using pip version 10.0.1, however version 19.3.1 is available.\n",
      "You should consider upgrading via the 'python -m pip install --upgrade pip' command.\n"
     ]
    }
   ],
   "source": [
    "# all necessary import are here\n",
    "import random, time, sys\n",
    "!pip install tqdm\n",
    "from tqdm import tqdm_notebook\n",
    "import matplotlib.pyplot as plt\n",
    "import numpy as np\n",
    "from scipy.spatial import distance\n",
    "import pickle"
   ]
  },
  {
   "cell_type": "markdown",
   "metadata": {},
   "source": [
    "# Step 0 #\n",
    "Firstly you will test your data structure using randomly generated values. At this step generate big enough random dataset. If your laptop spends a lot of time on this operation, please, reduce `maxsize` value and rerun.\n",
    "\n",
    "After you finish implementation, you can tune `K_random` parameter to see how the number of dimensions influences data structure time complexity (see question 4)."
   ]
  },
  {
   "cell_type": "code",
   "execution_count": 3,
   "metadata": {},
   "outputs": [
    {
     "name": "stdout",
     "output_type": "stream",
     "text": [
      "500000 rows generated in 0.41 s\n"
     ]
    }
   ],
   "source": [
    "K_random = 3 # dimension\n",
    "maxsize = 500000\n",
    "start = time.time()\n",
    "R = np.random.rand(maxsize, K_random)\n",
    "R = [(row, \"stub value {}\".format(i)) for i, row in enumerate(R)]\n",
    "finish = time.time()\n",
    "print(\"{} rows generated in {:.2f} s\".format(len(R), finish - start))"
   ]
  },
  {
   "cell_type": "markdown",
   "metadata": {},
   "source": [
    "# Step 1. Implementations #\n",
    "Within this cell you will iteratively implement major methods of [kd-tree](https://en.wikipedia.org/wiki/K-d_tree) data structure. Biggest part of code is already written - just fill remaining gaps. \n",
    "\n",
    "This particular implementation is designed to be **non-homogeneous**, which means it **stores values only in leaf nodes**. But this doesn't limit you if you want to implement other approach.\n",
    "\n",
    "Each leaf node can hold up to `leaf_capacity` items.\n",
    "\n",
    "Item stored in an index is a tuple: `(coordinate_k_dim_vector, value)`.\n",
    "\n",
    "Search requires only `coordinate_k_dim_vector` and returns relevant item(s)."
   ]
  },
  {
   "cell_type": "code",
   "execution_count": 115,
   "metadata": {},
   "outputs": [],
   "source": [
    "class Node:\n",
    "    def __init__(self, K=None, parent=None):\n",
    "        assert K is not None or parent, \"Either `K` should be provided for root node, or `parent` for internal nodes\"\n",
    "        # Reference to parent node. Used in ANNS search\n",
    "        self.parent = parent\n",
    "        # depth start from 0. To compute dimension, relevant to the level, use (self.depth % self.K)\n",
    "        self.depth = (parent.depth + 1) if parent else 0\n",
    "        # K means number of vector dimensions\n",
    "        self.K = parent.K if parent else K\n",
    "        # value, which splits subspace into to parts using hyperplane: item[self.depth % self.K] == self.pivot\n",
    "        # pivot is empty for any leaf node.\n",
    "        self.pivot = None\n",
    "        # left and right child nodes\n",
    "        self.left = None\n",
    "        self.right = None\n",
    "        # collection of items\n",
    "        self.items = None\n",
    "        \n",
    "    def build_kd_tree(self, items, leaf_capacity=4):\n",
    "        '''Takes a list of items and arranges it in a kd-tree'''\n",
    "        assert items is not None, \"Please provide at least one point\"\n",
    "        # put all items in the node if they fit into limit\n",
    "        if len(items) <= leaf_capacity:\n",
    "            self.items = items\n",
    "        # or else split items into 2 subnodes using median value\n",
    "        else:\n",
    "            self.items = None\n",
    "            self.left = Node(parent=self)\n",
    "            self.right = Node(parent=self)\n",
    "            \n",
    "            # TODO 1.A.: few lines of code which initialize inernal node.\n",
    "            only_coords = np.asarray([item[0] for item in items])[:,self.depth % self.K]\n",
    "            self.pivot = np.median(only_coords) # here you should write median value with respect to coordinate\n",
    "            left = []           # those items, which are smaller that pivot value\n",
    "            right = []          # those items, which are greater that pivot value\n",
    "            for item in items:\n",
    "                if item[0][self.depth % self.K] <= self.pivot:\n",
    "                    left.append(item)\n",
    "                else:\n",
    "                    right.append(item)\n",
    "            self.left.build_kd_tree(left) #\n",
    "            self.right.build_kd_tree(right)\n",
    "\n",
    "        return self\n",
    "    \n",
    "    def kd_find_leaf(self, key):\n",
    "        ''' returns a node where key should be stored (but can be not present)'''\n",
    "        if self.pivot is None or self.items is not None: # leaf node OR empty root\n",
    "            return self # searched value\n",
    "        else:\n",
    "            \n",
    "            # TODO 1.B. This is a basic operation fo travesing the tree.\n",
    "            # restore correct condition to continue recursion\n",
    "            if self.pivot <= key[self.depth % self.K]:      # write your own condition\n",
    "                return self.left.kd_find_leaf(key)\n",
    "            else:\n",
    "                return self.right.kd_find_leaf(key)\n",
    "            \n",
    "#     def kd_insert_no_split(self, item):\n",
    "#         '''Naive implementation of insert into leaf node. It is not used in tests of this tutorial.'''\n",
    "#         node = self.kd_find_leaf(item[0])\n",
    "#         node.items.append(item)\n",
    "        \n",
    "    def kd_insert_with_split(self, item, leaf_capacity=4):\n",
    "        '''This method recursively splits the nodes into 2 child nodes if they overflow `leaf_capacity`'''\n",
    "        \n",
    "        # TODO 1.C. This is very simple insertion procedure.\n",
    "        # Split the node if it cannot accept one more item.\n",
    "        # HINT: reuse kd_find_leaf() and build_kd_tree() methods if possible\n",
    "        leaf = self.kd_find_leaf(item[0])     \n",
    "        \n",
    "        if leaf.items == None or len(leaf.items) < leaf_capacity:\n",
    "            leaf.items = (leaf.items or []) + [item]\n",
    "        else: #no extra space\n",
    "            items = leaf.items\n",
    "            leaf.items = None\n",
    "            leaf.build_kd_tree(items + [item], leaf_capacity=leaf_capacity)\n",
    "            \n",
    "\n",
    "        \n",
    "    def get_subtree_items(self):\n",
    "        '''Returns union of all items belonging to a subtree'''\n",
    "        if self.pivot is None or self.items is not None: # leaf node OR empty root\n",
    "            return self.items\n",
    "        else:\n",
    "            return self.left.get_subtree_items() + self.right.get_subtree_items()\n",
    "        \n",
    "    def get_nn(self, key, knn):\n",
    "        '''Return K approximate nearest neighbours for a given key'''\n",
    "        node = self.kd_find_leaf(key)\n",
    "        best = []\n",
    "        \n",
    "        # TODO 1.D. ANN search.\n",
    "        # write here the code which returns `knn` \n",
    "        # approximate nearest neighbours with respect to euclidean distance\n",
    "        # HINT: you can use [scipy.spatial.]distance.euclidean(a, c) - it is already imported\n",
    "                \n",
    "        return best[:knn]\n",
    "    \n",
    "    def get_in_range(self, lower_bound_key, upper_bound_key):\n",
    "        '''Runs range query. Returns all items bounded by the given corners: `lower_bound_key`, `upper_bound_key`'''\n",
    "        result = []\n",
    "        if self.pivot is None or self.items is not None: # internal node OR empty root\n",
    "            # TODO 3.B.: This is a leaf node. Select only those items from self.item\n",
    "            # which fall into a given range\n",
    "\n",
    "            return result\n",
    "        else:\n",
    "            # TODO 3.B.: This is an internal node.\n",
    "            # write recursive code to collect corresponding data from subtrees\n",
    "\n",
    "            return result"
   ]
  },
  {
   "cell_type": "code",
   "execution_count": 85,
   "metadata": {},
   "outputs": [],
   "source": [
    "ll = [(1,2), (3,4)]\n",
    "ll.append((6,7))"
   ]
  },
  {
   "cell_type": "markdown",
   "metadata": {},
   "source": [
    "### 1.A. Build procedure ###\n",
    "In `build_kd_tree()` method implement the core idea. This is my suggested idea, but you can modify it slightly:\n",
    "- tree is non-homogenous, thus, items are stored in leaf nodes only.\n",
    "- `self.pivot` should be assigned the median value for correspoinding `depth % K` coordinate.\n",
    "- `left` variable should hold all the items <= than `self.pivot`.\n",
    "- `right` variable should hold all the items > than `self.pivot`.\n",
    "- `node_capacity=X` allows to store up to `X` items in a leaf node.\n",
    "\n",
    "This is how it works for `K=2, node_capacity=2`:\n",
    "![kd-tree](http://sprotasov.ru/files/kd.png)\n",
    "\n",
    "Next block will generate you a graph `time(size)`. Please explore the graph. Is it close to linear function?"
   ]
  },
  {
   "cell_type": "code",
   "execution_count": 68,
   "metadata": {},
   "outputs": [
    {
     "name": "stderr",
     "output_type": "stream",
     "text": [
      "d:\\jupyter\\venv\\lib\\site-packages\\ipykernel_launcher.py:6: TqdmDeprecationWarning: This function will be removed in tqdm==5.0.0\n",
      "Please use `tqdm.notebook.tqdm` instead of `tqdm.tqdm_notebook`\n",
      "  \n"
     ]
    },
    {
     "data": {
      "application/vnd.jupyter.widget-view+json": {
       "model_id": "9dce0cc6c90344bf908a570a5a8b020c",
       "version_major": 2,
       "version_minor": 0
      },
      "text/plain": [
       "HBox(children=(FloatProgress(value=0.0, max=10.0), HTML(value='')))"
      ]
     },
     "metadata": {},
     "output_type": "display_data"
    },
    {
     "name": "stdout",
     "output_type": "stream",
     "text": [
      "\n"
     ]
    },
    {
     "data": {
      "image/png": "[encoded data removed]",
      "text/plain": [
       "<Figure size 720x432 with 1 Axes>"
      ]
     },
     "metadata": {
      "needs_background": "light"
     },
     "output_type": "display_data"
    }
   ],
   "source": [
    "# sample 10, 20, ..., 100% of R\n",
    "step = len(R) // 10\n",
    "sizes, build_times = [], []\n",
    "\n",
    "# tqdm_notebook draws a progress bar. If it doesnt't work in youe environment, just remove it.\n",
    "for size in tqdm_notebook(range(1, len(R) + 1, step)):\n",
    "    sample = R[:size]\n",
    "    start = time.time()\n",
    "    kdtree = Node(K=K_random).build_kd_tree(sample)\n",
    "    finish = time.time()\n",
    "    sizes.append(size)\n",
    "    build_times.append((finish - start) * 1000)\n",
    "    \n",
    "    \n",
    "fig = plt.figure(figsize=(10, 6))\n",
    "a = plt.axes()\n",
    "a.set_xlabel('dataset size')\n",
    "a.set_ylabel('time, ms')\n",
    "plt.plot(sizes, build_times)\n",
    "plt.show()"
   ]
  },
  {
   "cell_type": "markdown",
   "metadata": {},
   "source": [
    "### 1.B. Search ###\n",
    "Before running this block, please complete the finction `kd_find_leaf()` which accepts a key vector and returns one leaf node, which should store this key. After you complete, you will see how fastly your queries can be processed with respect to dataset size."
   ]
  },
  {
   "cell_type": "code",
   "execution_count": 75,
   "metadata": {},
   "outputs": [
    {
     "name": "stderr",
     "output_type": "stream",
     "text": [
      "d:\\jupyter\\venv\\lib\\site-packages\\ipykernel_launcher.py:4: TqdmDeprecationWarning: This function will be removed in tqdm==5.0.0\n",
      "Please use `tqdm.notebook.tqdm` instead of `tqdm.tqdm_notebook`\n",
      "  after removing the cwd from sys.path.\n"
     ]
    },
    {
     "data": {
      "application/vnd.jupyter.widget-view+json": {
       "model_id": "be527302f2be48f5b1af3a654e39c02f",
       "version_major": 2,
       "version_minor": 0
      },
      "text/plain": [
       "HBox(children=(FloatProgress(value=0.0, max=10.0), HTML(value='')))"
      ]
     },
     "metadata": {},
     "output_type": "display_data"
    },
    {
     "name": "stdout",
     "output_type": "stream",
     "text": [
      "\n"
     ]
    },
    {
     "data": {
      "image/png": "[encoded data removed]",
      "text/plain": [
       "<Figure size 720x432 with 1 Axes>"
      ]
     },
     "metadata": {
      "needs_background": "light"
     },
     "output_type": "display_data"
    }
   ],
   "source": [
    "step = len(R) // 10\n",
    "sizes, search_times = [], []\n",
    "\n",
    "for size in tqdm_notebook(range(step, len(R) + 1, step)):\n",
    "    kdtree = Node(K=K_random).build_kd_tree(R[:size])\n",
    "    \n",
    "    iterations = 100\n",
    "    duration = None\n",
    "    for i in range(iterations):\n",
    "        x = R[random.randint(0, len(R) - 1)]\n",
    "        start = time.time()\n",
    "        kdtree.kd_find_leaf(x[0])\n",
    "        finish = time.time()\n",
    "        duration = max(duration, finish - start) if duration else finish - start\n",
    "        \n",
    "    sizes.append(size)\n",
    "    search_times.append(duration * 1000)\n",
    "    \n",
    "    \n",
    "fig = plt.figure(figsize=(10, 6))\n",
    "a = plt.axes()\n",
    "a.set_xlabel('dataset size')\n",
    "a.set_ylabel('worst search time (100 attempts), ms')\n",
    "plt.plot(sizes, search_times)\n",
    "plt.show()"
   ]
  },
  {
   "cell_type": "markdown",
   "metadata": {},
   "source": [
    "### 1.C. Insertion ###\n",
    "One of your classmates came to me with a robotics problem. *\"What if I want to insert 5000 new point per second?\"* - he said. I want you to answer this question. Implement remaining part of `kd_insert_with_split()` and run the test."
   ]
  },
  {
   "cell_type": "code",
   "execution_count": 118,
   "metadata": {},
   "outputs": [
    {
     "name": "stderr",
     "output_type": "stream",
     "text": [
      "d:\\jupyter\\venv\\lib\\site-packages\\ipykernel_launcher.py:13: TqdmDeprecationWarning: This function will be removed in tqdm==5.0.0\n",
      "Please use `tqdm.notebook.tqdm` instead of `tqdm.tqdm_notebook`\n",
      "  del sys.path[0]\n"
     ]
    },
    {
     "data": {
      "application/vnd.jupyter.widget-view+json": {
       "model_id": "a37e828e0a3a4a33ad5bd5df2d970213",
       "version_major": 2,
       "version_minor": 0
      },
      "text/plain": [
       "HBox(children=(FloatProgress(value=0.0, max=4.0), HTML(value='')))"
      ]
     },
     "metadata": {},
     "output_type": "display_data"
    },
    {
     "name": "stdout",
     "output_type": "stream",
     "text": [
      "\n"
     ]
    },
    {
     "data": {
      "image/png": "[encoded data removed]",
      "text/plain": [
       "<Figure size 720x432 with 1 Axes>"
      ]
     },
     "metadata": {
      "needs_background": "light"
     },
     "output_type": "display_data"
    }
   ],
   "source": [
    "step = 5000\n",
    "sample_size = 20000\n",
    "trees = [\n",
    "            Node(K=K_random), \n",
    "            Node(K=K_random), \n",
    "            Node(K=K_random)\n",
    "]\n",
    "capacities = [1, 4, 10]\n",
    "\n",
    "\n",
    "sizes, depths = [], [[], [], []]\n",
    "max_depth = [0, 0, 0]\n",
    "for i in tqdm_notebook(range(0, sample_size, step)):\n",
    "    for item in R[i:i+step]:\n",
    "        for t in range(3):\n",
    "            trees[t].kd_insert_with_split((item[0], \"stub value test 1.C.\"), leaf_capacity=capacities[t])\n",
    "            max_depth[t] = max(trees[t].kd_find_leaf(item[0]).depth, max_depth[t])\n",
    "    sizes.append(i)\n",
    "    for t in range(3):\n",
    "        depths[t].append(max_depth[t])\n",
    "\n",
    "fig = plt.figure(figsize=(10, 6))\n",
    "a = plt.axes()\n",
    "a.set_xlabel('iteration of inserting 5000 points')\n",
    "a.set_ylabel('tree depth after insertions')\n",
    "\n",
    "plt.plot(sizes, depths[0])\n",
    "plt.plot(sizes, depths[1])\n",
    "plt.plot(sizes, depths[2])\n",
    "plt.show()"
   ]
  },
  {
   "cell_type": "markdown",
   "metadata": {},
   "source": [
    "### 1.D. ANNS search ### \n",
    "This block tests `get_nn()` method, which performs approximate nearest neighbour search. Please, complete this method. After you run this block you will see how NN count influences search speed."
   ]
  },
  {
   "cell_type": "code",
   "execution_count": null,
   "metadata": {},
   "outputs": [],
   "source": [
    "# NN SEARCH\n",
    "kdtree = Node(K=K_random).build_kd_tree(R)\n",
    "times = []\n",
    "nns = [10, 100, 1000, 10000, 20000, 40000]\n",
    "iterations = 10\n",
    "for nn in tqdm_notebook(nns):\n",
    "    start = time.time()\n",
    "    for t in range(iterations):\n",
    "        x = R[random.randint(0, len(R) - 1)]\n",
    "        kdtree.get_nn(x[0], nn)\n",
    "    finish = time.time()\n",
    "    times.append((finish - start) * 1000 / iterations)\n",
    "\n",
    "fig = plt.figure(figsize=(10, 6))\n",
    "a = plt.axes()\n",
    "a.set_xlabel('How many NNs we request')\n",
    "a.set_ylabel('time of search, ms')\n",
    "plt.plot(nns,times)\n",
    "plt.show()"
   ]
  },
  {
   "cell_type": "markdown",
   "metadata": {},
   "source": [
    "## 2. [Annoy](https://github.com/spotify/annoy) library ## \n",
    "\n",
    "Now you have your own index data structure. How far is it from industrial implementations?\n",
    "\n",
    "First of all, let's install and import the requirement. Just run it."
   ]
  },
  {
   "cell_type": "code",
   "execution_count": null,
   "metadata": {},
   "outputs": [],
   "source": [
    "!pip install --user annoy\n",
    "from annoy import AnnoyIndex"
   ]
  },
  {
   "cell_type": "code",
   "execution_count": null,
   "metadata": {},
   "outputs": [],
   "source": [
    "# use Eiclidean distance for the index. Also multiple others allowed\n",
    "index = AnnoyIndex(K_random, 'euclidean')\n",
    "\n",
    "for i, row in enumerate(R):\n",
    "    index.add_item(i, row[0])\n",
    "\n",
    "index.build(10) # number of trees\n",
    "\n",
    "# this code shows how to save the index. Loading is fast - it uses memory map (mmap) of file\n",
    "# index.save('test2.ann')\n",
    "# index = AnnoyIndex(dim, 'euclidean')\n",
    "# u.load('test2.ann')"
   ]
  },
  {
   "cell_type": "markdown",
   "metadata": {},
   "source": [
    "Second, let's run a test for KNN search. \n",
    "\n",
    "Is it much faster?\n",
    "\n",
    "Is it assimpotically faster?"
   ]
  },
  {
   "cell_type": "code",
   "execution_count": null,
   "metadata": {},
   "outputs": [],
   "source": [
    "# NN SEARCH\n",
    "times_annoy = []\n",
    "nns = [10, 100, 1000, 10000, 20000, 40000]\n",
    "iterations = 10\n",
    "for nn in tqdm_notebook(nns):\n",
    "    start = time.time()\n",
    "    for t in range(iterations):\n",
    "        x = R[random.randint(0, len(R) - 1)]\n",
    "        index.get_nns_by_vector(x[0], nn)\n",
    "    finish = time.time()\n",
    "    times_annoy.append((finish - start) * 1000 / iterations)\n",
    "\n",
    "fig = plt.figure(figsize=(10, 6))\n",
    "a = plt.axes()\n",
    "a.set_xlabel('How many NNs we request')\n",
    "a.set_ylabel('time, ms')\n",
    "plt.plot(nns, times_annoy)\n",
    "\n",
    "# you can also build times array on the same graph\n",
    "#  plt.plot(nns, times)\n",
    "plt.show()"
   ]
  },
  {
   "cell_type": "markdown",
   "metadata": {},
   "source": [
    "## 3. Real data ##\n",
    "\n",
    "Let's pracite on the real data. [Here are samples](https://drive.google.com/drive/folders/1nhiJC6g5R5uPDYwa-6sz9_bJ3sYGm8mM?usp=sharing) of GeoSite's database (63 countries, 21M POIs). Download and uncompress any dataset you like (or can), and load the data with pickle."
   ]
  },
  {
   "cell_type": "code",
   "execution_count": null,
   "metadata": {},
   "outputs": [],
   "source": [
    "# replace filename if you want to use other index file\n",
    "with open(\"poi_sample01.pickle\", \"rb\") as f:\n",
    "    dataset = pickle.load(f)\n",
    "\n",
    "# let's sample 20000 of points to draw\n",
    "step = len(dataset) // 20000\n",
    "    \n",
    "X = [v[0][0] for v in dataset[::step]]\n",
    "Y = [v[0][1] for v in dataset[::step]]\n",
    "\n",
    "plt.figure(figsize=(15, 10))\n",
    "a = plt.axes()\n",
    "a.set_xlabel('longitude')\n",
    "a.set_ylabel('latitude')\n",
    "plt.axhline(0, color='red')\n",
    "plt.axvline(0, color='black')\n",
    "plt.scatter(X, Y)\n",
    "plt.show()"
   ]
  },
  {
   "cell_type": "markdown",
   "metadata": {},
   "source": [
    "Now let's build the index on this real data. As it holds latitude and longutude, we will have `K=2`."
   ]
  },
  {
   "cell_type": "code",
   "execution_count": null,
   "metadata": {},
   "outputs": [],
   "source": [
    "K_real = 2\n",
    "start = time.time()\n",
    "kdtree = Node(K=K_real).build_kd_tree(dataset)\n",
    "finish = time.time()\n",
    "print(\"Index build in {:.2f} sec.\".format(finish - start))"
   ]
  },
  {
   "cell_type": "markdown",
   "metadata": {},
   "source": [
    "Check your nearest neighbours search works on real data."
   ]
  },
  {
   "cell_type": "code",
   "execution_count": null,
   "metadata": {},
   "outputs": [],
   "source": [
    "paris = [2.334083, 48.853260]\n",
    "boulder = [-105.205606, 40.063987]\n",
    "sidney = [151.211122, -33.874236]\n",
    "\n",
    "paris_nn = [v for v in kdtree.get_nn(paris, 5000) if 'Shop' in v[1]]\n",
    "boulder_nn = [v for v in kdtree.get_nn(boulder, 5000) if \"College\" in v[1]]\n",
    "sidney_nn = [v for v in kdtree.get_nn(sidney, 5000) if \"Food\" in v[1]]\n",
    "\n",
    "# print to check that places you found are actually in neighbourhood\n",
    "print(\"Australia, Sidney, food\", sidney_nn[:5])"
   ]
  },
  {
   "cell_type": "markdown",
   "metadata": {},
   "source": [
    "Next block will draw your results on a map."
   ]
  },
  {
   "cell_type": "code",
   "execution_count": null,
   "metadata": {},
   "outputs": [],
   "source": [
    "X = [v[0][0] for v in dataset[::step]]\n",
    "Y = [v[0][1] for v in dataset[::step]]\n",
    "BX, BY = [v[0][0] for v in boulder_nn], [v[0][1] for v in boulder_nn]\n",
    "PX, PY = [v[0][0] for v in paris_nn], [v[0][1] for v in paris_nn]\n",
    "SX, SY = [v[0][0] for v in sidney_nn], [v[0][1] for v in sidney_nn]\n",
    "plt.figure(figsize=(10, 6))\n",
    "a = plt.axes()\n",
    "a.set_xlabel('longitude')\n",
    "a.set_ylabel('latitude')\n",
    "plt.axhline(0, color='black')\n",
    "plt.axvline(0, color='black')\n",
    "plt.scatter(X, Y)\n",
    "plt.scatter(BX, BY, marker=\"*\", s=50)\n",
    "plt.scatter(PX, PY, marker=\"^\", s=50, color=\"orange\")\n",
    "plt.scatter(SX, SY, marker=\"+\", s=50, color='yellow')\n",
    "plt.show()"
   ]
  },
  {
   "cell_type": "markdown",
   "metadata": {},
   "source": [
    "## 3.B. Range search ##\n",
    "Range search in kd-tree is based on the idea, that we skip branches that do not intersect search range. You can use comparison with `pivot` element to decide. Please write your code in `get_in_range()` method. It accepts 2 vector keys of lower and upper bounds.\n",
    "\n",
    "Then run 2 following blocks to see if it works. At the map it should be a region on the East coast of US."
   ]
  },
  {
   "cell_type": "code",
   "execution_count": null,
   "metadata": {},
   "outputs": [],
   "source": [
    "low, high = [-76.0, 38.0], [-72.0, 42.0]\n",
    "region = kdtree.get_in_range(low, high)\n",
    "print(\"Found: {} items\".format(len(region)))"
   ]
  },
  {
   "cell_type": "code",
   "execution_count": null,
   "metadata": {},
   "outputs": [],
   "source": [
    "X = [v[0][0] for v in dataset[::step]]\n",
    "Y = [v[0][1] for v in dataset[::step]]\n",
    "RX, RY = [v[0][0] for v in region], [v[0][1] for v in region]\n",
    "plt.figure(figsize=(10, 6))\n",
    "a = plt.axes()\n",
    "a.set_xlabel('longitude')\n",
    "a.set_ylabel('latitude')\n",
    "plt.axhline(0, color='black')\n",
    "plt.axvline(0, color='black')\n",
    "plt.scatter(X, Y)\n",
    "plt.scatter(RX, RY, marker=\".\", s=50)\n",
    "plt.show()"
   ]
  },
  {
   "cell_type": "markdown",
   "metadata": {},
   "source": [
    "## 4. [OPTIONAL] Open questions ##\n",
    "Change your code to answer:\n",
    "1. How `K` parameter influences kd-tree search speed?\n",
    "2. How `K` parameter influences Annoy search speed?\n",
    "3. How branch split technique (pivot selection) influence tree depth?\n",
    "4. How range size and `K` parameter influence range search in kd-tree?"
   ]
  }
 ],
 "metadata": {
  "kernelspec": {
   "display_name": "Python 3",
   "language": "python",
   "name": "python3"
  },
  "language_info": {
   "codemirror_mode": {
    "name": "ipython",
    "version": 3
   },
   "file_extension": ".py",
   "mimetype": "text/x-python",
   "name": "python",
   "nbconvert_exporter": "python",
   "pygments_lexer": "ipython3",
   "version": "3.6.8"
  }
 },
 "nbformat": 4,
 "nbformat_minor": 2
}
